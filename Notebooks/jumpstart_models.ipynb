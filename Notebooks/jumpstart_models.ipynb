{
 "cells": [
  {
   "cell_type": "code",
   "execution_count": 1,
   "id": "f892d745",
   "metadata": {},
   "outputs": [
    {
     "name": "stderr",
     "output_type": "stream",
     "text": [
      "\u001b[2mUsing Python 3.10.15 environment at C:\\Users\\bored\\Music\\SagemekerLearning\\sagelearner\u001b[0m\n",
      "\u001b[2mAudited \u001b[1m1 package\u001b[0m \u001b[2min 16ms\u001b[0m\u001b[0m\n",
      "\u001b[2mUsing Python 3.10.15 environment at C:\\Users\\bored\\Music\\SagemekerLearning\\sagelearner\u001b[0m\n",
      "\u001b[2mAudited \u001b[1m1 package\u001b[0m \u001b[2min 34ms\u001b[0m\u001b[0m\n"
     ]
    }
   ],
   "source": [
    "!uv pip install boto3\n",
    "!uv pip install sagemaker"
   ]
  },
  {
   "cell_type": "code",
   "execution_count": 2,
   "id": "ff46272c",
   "metadata": {},
   "outputs": [
    {
     "name": "stderr",
     "output_type": "stream",
     "text": [
      "\u001b[2mUsing Python 3.10.15 environment at C:\\Users\\bored\\Music\\SagemekerLearning\\sagelearner\u001b[0m\n",
      "\u001b[2mAudited \u001b[1m1 package\u001b[0m \u001b[2min 7ms\u001b[0m\u001b[0m\n"
     ]
    }
   ],
   "source": [
    "!uv pip install ipywidgets"
   ]
  },
  {
   "cell_type": "code",
   "execution_count": 3,
   "id": "42c1e352",
   "metadata": {},
   "outputs": [],
   "source": [
    "import json\n",
    "import pandas as pd\n",
    "import logging\n",
    "from ipywidgets import Dropdown"
   ]
  },
  {
   "cell_type": "code",
   "execution_count": 4,
   "id": "12c16f55",
   "metadata": {},
   "outputs": [
    {
     "name": "stdout",
     "output_type": "stream",
     "text": [
      "sagemaker.config INFO - Not applying SDK defaults from location: C:\\ProgramData\\sagemaker\\sagemaker\\config.yaml\n",
      "sagemaker.config INFO - Not applying SDK defaults from location: C:\\Users\\bored\\AppData\\Local\\sagemaker\\sagemaker\\config.yaml\n"
     ]
    }
   ],
   "source": [
    "import boto3\n",
    "import sagemaker"
   ]
  },
  {
   "cell_type": "code",
   "execution_count": 5,
   "id": "58251243",
   "metadata": {},
   "outputs": [
    {
     "name": "stdout",
     "output_type": "stream",
     "text": [
      "us-east-1\n"
     ]
    }
   ],
   "source": [
    "sess = sagemaker.Session()\n",
    "region = sess.boto_region_name\n",
    "print(region)"
   ]
  },
  {
   "cell_type": "code",
   "execution_count": 6,
   "id": "c6dd9619",
   "metadata": {},
   "outputs": [
    {
     "name": "stdout",
     "output_type": "stream",
     "text": [
      "number of models:  17074\n"
     ]
    }
   ],
   "source": [
    "# download JumpStart model_manifest file.\n",
    "boto3.client(\"s3\").download_file(\n",
    "    f\"jumpstart-cache-prod-{region}\", \"models_manifest.json\", \"models_manifest.json\"\n",
    ")\n",
    "with open(\"models_manifest.json\", \"rb\") as json_file:\n",
    "    model_list = json.load(json_file)\n",
    "\n",
    "print(\"number of models: \", len(model_list))"
   ]
  },
  {
   "cell_type": "code",
   "execution_count": 7,
   "id": "abba00dd",
   "metadata": {},
   "outputs": [
    {
     "data": {
      "text/html": [
       "<div>\n",
       "<style scoped>\n",
       "    .dataframe tbody tr th:only-of-type {\n",
       "        vertical-align: middle;\n",
       "    }\n",
       "\n",
       "    .dataframe tbody tr th {\n",
       "        vertical-align: top;\n",
       "    }\n",
       "\n",
       "    .dataframe thead th {\n",
       "        text-align: right;\n",
       "    }\n",
       "</style>\n",
       "<table border=\"1\" class=\"dataframe\">\n",
       "  <thead>\n",
       "    <tr style=\"text-align: right;\">\n",
       "      <th></th>\n",
       "      <th>model_id</th>\n",
       "      <th>version</th>\n",
       "      <th>min_version</th>\n",
       "      <th>spec_key</th>\n",
       "      <th>provider</th>\n",
       "      <th>search_keywords</th>\n",
       "    </tr>\n",
       "  </thead>\n",
       "  <tbody>\n",
       "    <tr>\n",
       "      <th>12244</th>\n",
       "      <td>tensorflow-ic-imagenet-mobilenet-v1-100-128-cl...</td>\n",
       "      <td>4.0.14</td>\n",
       "      <td>2.189.0</td>\n",
       "      <td>community_models/tensorflow-ic-imagenet-mobile...</td>\n",
       "      <td>tensorflow</td>\n",
       "      <td>NaN</td>\n",
       "    </tr>\n",
       "    <tr>\n",
       "      <th>14272</th>\n",
       "      <td>tensorflow-icembedding-imagenet-mobilenet-v1-1...</td>\n",
       "      <td>3.0.13</td>\n",
       "      <td>2.189.0</td>\n",
       "      <td>community_models/tensorflow-icembedding-imagen...</td>\n",
       "      <td>tensorflow</td>\n",
       "      <td>[Vision, Image Embedding]</td>\n",
       "    </tr>\n",
       "    <tr>\n",
       "      <th>14200</th>\n",
       "      <td>tensorflow-icembedding-imagenet-mobilenet-v1-1...</td>\n",
       "      <td>1.0.5</td>\n",
       "      <td>2.189.0</td>\n",
       "      <td>community_models/tensorflow-icembedding-imagen...</td>\n",
       "      <td>NaN</td>\n",
       "      <td>NaN</td>\n",
       "    </tr>\n",
       "    <tr>\n",
       "      <th>6181</th>\n",
       "      <td>huggingface-txt2img-sd-dreambooth-library-orig...</td>\n",
       "      <td>1.0.6</td>\n",
       "      <td>2.189.0</td>\n",
       "      <td>community_models/huggingface-txt2img-sd-dreamb...</td>\n",
       "      <td>NaN</td>\n",
       "      <td>NaN</td>\n",
       "    </tr>\n",
       "    <tr>\n",
       "      <th>10044</th>\n",
       "      <td>pytorch-tabtransformerclassification-model</td>\n",
       "      <td>2.0.15</td>\n",
       "      <td>2.189.0</td>\n",
       "      <td>community_models/pytorch-tabtransformerclassif...</td>\n",
       "      <td>pytorch</td>\n",
       "      <td>NaN</td>\n",
       "    </tr>\n",
       "    <tr>\n",
       "      <th>13970</th>\n",
       "      <td>tensorflow-icembedding-imagenet-mobilenet-v1-0...</td>\n",
       "      <td>1.0.4</td>\n",
       "      <td>2.189.0</td>\n",
       "      <td>community_models/tensorflow-icembedding-imagen...</td>\n",
       "      <td>NaN</td>\n",
       "      <td>NaN</td>\n",
       "    </tr>\n",
       "    <tr>\n",
       "      <th>13154</th>\n",
       "      <td>tensorflow-ic-swin-base-patch4-window12-384</td>\n",
       "      <td>1.0.1</td>\n",
       "      <td>2.80.0</td>\n",
       "      <td>community_models/tensorflow-ic-swin-base-patch...</td>\n",
       "      <td>NaN</td>\n",
       "      <td>NaN</td>\n",
       "    </tr>\n",
       "    <tr>\n",
       "      <th>10390</th>\n",
       "      <td>tensorflow-ic-bit-m-r152x4-imagenet21k</td>\n",
       "      <td>2.0.15</td>\n",
       "      <td>2.189.0</td>\n",
       "      <td>community_models/tensorflow-ic-bit-m-r152x4-im...</td>\n",
       "      <td>tensorflow</td>\n",
       "      <td>[Vision, Image Classification]</td>\n",
       "    </tr>\n",
       "    <tr>\n",
       "      <th>10720</th>\n",
       "      <td>tensorflow-ic-cait-s24-384</td>\n",
       "      <td>2.0.4</td>\n",
       "      <td>2.189.0</td>\n",
       "      <td>community_models/tensorflow-ic-cait-s24-384/sp...</td>\n",
       "      <td>NaN</td>\n",
       "      <td>NaN</td>\n",
       "    </tr>\n",
       "    <tr>\n",
       "      <th>16989</th>\n",
       "      <td>tensorflow-tcembedding-universal-sentence-enco...</td>\n",
       "      <td>2.0.9</td>\n",
       "      <td>2.189.0</td>\n",
       "      <td>community_models/tensorflow-tcembedding-univer...</td>\n",
       "      <td>tensorflow</td>\n",
       "      <td>NaN</td>\n",
       "    </tr>\n",
       "    <tr>\n",
       "      <th>868</th>\n",
       "      <td>huggingface-llm-dolphin-2-2-1-mistral-7b</td>\n",
       "      <td>1.2.3</td>\n",
       "      <td>2.189.0</td>\n",
       "      <td>community_models/huggingface-llm-dolphin-2-2-1...</td>\n",
       "      <td>NaN</td>\n",
       "      <td>NaN</td>\n",
       "    </tr>\n",
       "    <tr>\n",
       "      <th>16651</th>\n",
       "      <td>tensorflow-tcembedding-bert-en-uncased-L-2-H-5...</td>\n",
       "      <td>2.0.13</td>\n",
       "      <td>2.189.0</td>\n",
       "      <td>community_models/tensorflow-tcembedding-bert-e...</td>\n",
       "      <td>tensorflow</td>\n",
       "      <td>[Text, Text Embedding]</td>\n",
       "    </tr>\n",
       "    <tr>\n",
       "      <th>10143</th>\n",
       "      <td>sklearn-regression-linear</td>\n",
       "      <td>1.2.2</td>\n",
       "      <td>2.188.0</td>\n",
       "      <td>community_models/sklearn-regression-linear/spe...</td>\n",
       "      <td>NaN</td>\n",
       "      <td>NaN</td>\n",
       "    </tr>\n",
       "    <tr>\n",
       "      <th>11296</th>\n",
       "      <td>tensorflow-ic-efficientnet-lite2-classification-2</td>\n",
       "      <td>2.0.2</td>\n",
       "      <td>2.80.0</td>\n",
       "      <td>community_models/tensorflow-ic-efficientnet-li...</td>\n",
       "      <td>NaN</td>\n",
       "      <td>NaN</td>\n",
       "    </tr>\n",
       "    <tr>\n",
       "      <th>3990</th>\n",
       "      <td>huggingface-text2text-flan-t5-xxl-fp16</td>\n",
       "      <td>1.2.3</td>\n",
       "      <td>2.189.0</td>\n",
       "      <td>community_models/huggingface-text2text-flan-t5...</td>\n",
       "      <td>google</td>\n",
       "      <td>[Text, Text2Text Generation]</td>\n",
       "    </tr>\n",
       "    <tr>\n",
       "      <th>5799</th>\n",
       "      <td>huggingface-txt2img-mitchtech-vulcan-diffusion</td>\n",
       "      <td>1.0.0</td>\n",
       "      <td>2.81.0</td>\n",
       "      <td>community_models/huggingface-txt2img-mitchtech...</td>\n",
       "      <td>NaN</td>\n",
       "      <td>NaN</td>\n",
       "    </tr>\n",
       "    <tr>\n",
       "      <th>6208</th>\n",
       "      <td>huggingface-txt2img-sd-dreambooth-library-pers...</td>\n",
       "      <td>1.0.5</td>\n",
       "      <td>2.189.0</td>\n",
       "      <td>community_models/huggingface-txt2img-sd-dreamb...</td>\n",
       "      <td>NaN</td>\n",
       "      <td>NaN</td>\n",
       "    </tr>\n",
       "    <tr>\n",
       "      <th>4851</th>\n",
       "      <td>huggingface-textgeneration1-mpt-7b-instruct-bf16</td>\n",
       "      <td>1.0.0</td>\n",
       "      <td>2.153.0</td>\n",
       "      <td>community_models/huggingface-textgeneration1-m...</td>\n",
       "      <td>NaN</td>\n",
       "      <td>NaN</td>\n",
       "    </tr>\n",
       "    <tr>\n",
       "      <th>7458</th>\n",
       "      <td>meta-textgeneration-llama-3-2-3b-instruct</td>\n",
       "      <td>1.1.0</td>\n",
       "      <td>2.225.0</td>\n",
       "      <td>community_models/meta-textgeneration-llama-3-2...</td>\n",
       "      <td>NaN</td>\n",
       "      <td>NaN</td>\n",
       "    </tr>\n",
       "    <tr>\n",
       "      <th>12322</th>\n",
       "      <td>tensorflow-ic-imagenet-mobilenet-v1-100-192-cl...</td>\n",
       "      <td>2.0.1</td>\n",
       "      <td>2.80.0</td>\n",
       "      <td>community_models/tensorflow-ic-imagenet-mobile...</td>\n",
       "      <td>NaN</td>\n",
       "      <td>NaN</td>\n",
       "    </tr>\n",
       "  </tbody>\n",
       "</table>\n",
       "</div>"
      ],
      "text/plain": [
       "                                                model_id version min_version  \\\n",
       "12244  tensorflow-ic-imagenet-mobilenet-v1-100-128-cl...  4.0.14     2.189.0   \n",
       "14272  tensorflow-icembedding-imagenet-mobilenet-v1-1...  3.0.13     2.189.0   \n",
       "14200  tensorflow-icembedding-imagenet-mobilenet-v1-1...   1.0.5     2.189.0   \n",
       "6181   huggingface-txt2img-sd-dreambooth-library-orig...   1.0.6     2.189.0   \n",
       "10044         pytorch-tabtransformerclassification-model  2.0.15     2.189.0   \n",
       "13970  tensorflow-icembedding-imagenet-mobilenet-v1-0...   1.0.4     2.189.0   \n",
       "13154        tensorflow-ic-swin-base-patch4-window12-384   1.0.1      2.80.0   \n",
       "10390             tensorflow-ic-bit-m-r152x4-imagenet21k  2.0.15     2.189.0   \n",
       "10720                         tensorflow-ic-cait-s24-384   2.0.4     2.189.0   \n",
       "16989  tensorflow-tcembedding-universal-sentence-enco...   2.0.9     2.189.0   \n",
       "868             huggingface-llm-dolphin-2-2-1-mistral-7b   1.2.3     2.189.0   \n",
       "16651  tensorflow-tcembedding-bert-en-uncased-L-2-H-5...  2.0.13     2.189.0   \n",
       "10143                          sklearn-regression-linear   1.2.2     2.188.0   \n",
       "11296  tensorflow-ic-efficientnet-lite2-classification-2   2.0.2      2.80.0   \n",
       "3990              huggingface-text2text-flan-t5-xxl-fp16   1.2.3     2.189.0   \n",
       "5799      huggingface-txt2img-mitchtech-vulcan-diffusion   1.0.0      2.81.0   \n",
       "6208   huggingface-txt2img-sd-dreambooth-library-pers...   1.0.5     2.189.0   \n",
       "4851    huggingface-textgeneration1-mpt-7b-instruct-bf16   1.0.0     2.153.0   \n",
       "7458           meta-textgeneration-llama-3-2-3b-instruct   1.1.0     2.225.0   \n",
       "12322  tensorflow-ic-imagenet-mobilenet-v1-100-192-cl...   2.0.1      2.80.0   \n",
       "\n",
       "                                                spec_key    provider  \\\n",
       "12244  community_models/tensorflow-ic-imagenet-mobile...  tensorflow   \n",
       "14272  community_models/tensorflow-icembedding-imagen...  tensorflow   \n",
       "14200  community_models/tensorflow-icembedding-imagen...         NaN   \n",
       "6181   community_models/huggingface-txt2img-sd-dreamb...         NaN   \n",
       "10044  community_models/pytorch-tabtransformerclassif...     pytorch   \n",
       "13970  community_models/tensorflow-icembedding-imagen...         NaN   \n",
       "13154  community_models/tensorflow-ic-swin-base-patch...         NaN   \n",
       "10390  community_models/tensorflow-ic-bit-m-r152x4-im...  tensorflow   \n",
       "10720  community_models/tensorflow-ic-cait-s24-384/sp...         NaN   \n",
       "16989  community_models/tensorflow-tcembedding-univer...  tensorflow   \n",
       "868    community_models/huggingface-llm-dolphin-2-2-1...         NaN   \n",
       "16651  community_models/tensorflow-tcembedding-bert-e...  tensorflow   \n",
       "10143  community_models/sklearn-regression-linear/spe...         NaN   \n",
       "11296  community_models/tensorflow-ic-efficientnet-li...         NaN   \n",
       "3990   community_models/huggingface-text2text-flan-t5...      google   \n",
       "5799   community_models/huggingface-txt2img-mitchtech...         NaN   \n",
       "6208   community_models/huggingface-txt2img-sd-dreamb...         NaN   \n",
       "4851   community_models/huggingface-textgeneration1-m...         NaN   \n",
       "7458   community_models/meta-textgeneration-llama-3-2...         NaN   \n",
       "12322  community_models/tensorflow-ic-imagenet-mobile...         NaN   \n",
       "\n",
       "                      search_keywords  \n",
       "12244                             NaN  \n",
       "14272       [Vision, Image Embedding]  \n",
       "14200                             NaN  \n",
       "6181                              NaN  \n",
       "10044                             NaN  \n",
       "13970                             NaN  \n",
       "13154                             NaN  \n",
       "10390  [Vision, Image Classification]  \n",
       "10720                             NaN  \n",
       "16989                             NaN  \n",
       "868                               NaN  \n",
       "16651          [Text, Text Embedding]  \n",
       "10143                             NaN  \n",
       "11296                             NaN  \n",
       "3990     [Text, Text2Text Generation]  \n",
       "5799                              NaN  \n",
       "6208                              NaN  \n",
       "4851                              NaN  \n",
       "7458                              NaN  \n",
       "12322                             NaN  "
      ]
     },
     "execution_count": 7,
     "metadata": {},
     "output_type": "execute_result"
    }
   ],
   "source": [
    "model_df = pd.DataFrame(model_list)\n",
    "model_df.sample(20)"
   ]
  },
  {
   "cell_type": "code",
   "execution_count": 8,
   "id": "8bff62c6",
   "metadata": {},
   "outputs": [
    {
     "name": "stdout",
     "output_type": "stream",
     "text": [
      "Number of od models available for inference: 999\n"
     ]
    }
   ],
   "source": [
    "od_models = []\n",
    "for model in model_list:\n",
    "    model_id = model[\"model_id\"]\n",
    "    if (\"-od-\" in model_id or \"-od1-\" or \"-od2-\"in model_id) and model_id not in od_models:\n",
    "        od_models.append(model_id)\n",
    "\n",
    "print(f\"Number of od models available for inference: {len(od_models)}\")"
   ]
  },
  {
   "cell_type": "code",
   "execution_count": 9,
   "id": "9b993cbf",
   "metadata": {},
   "outputs": [],
   "source": [
    "infer_model_dropdown = Dropdown(\n",
    "    options=od_models,\n",
    "    value=\"pytorch-od-nvidia-ssd\",\n",
    "    description=\"Select a model:\",\n",
    "    style={\"description_width\": \"initial\"},\n",
    "    layout={\"width\": \"max-content\"},\n",
    ")"
   ]
  },
  {
   "cell_type": "code",
   "execution_count": 10,
   "id": "7b19dafa",
   "metadata": {},
   "outputs": [
    {
     "data": {
      "application/vnd.jupyter.widget-view+json": {
       "model_id": "c854d1cb4e3d4918aeb4436dee315562",
       "version_major": 2,
       "version_minor": 0
      },
      "text/plain": [
       "Dropdown(description='Select a model:', index=632, layout=Layout(width='max-content'), options=('autogluon-cla…"
      ]
     },
     "metadata": {},
     "output_type": "display_data"
    }
   ],
   "source": [
    "display(infer_model_dropdown)"
   ]
  },
  {
   "cell_type": "code",
   "execution_count": 11,
   "id": "8dbc09f3",
   "metadata": {},
   "outputs": [
    {
     "name": "stdout",
     "output_type": "stream",
     "text": [
      "Number of ic models available for inference: 162\n"
     ]
    }
   ],
   "source": [
    "# filter-out all the Image Classification models from the manifest list.\n",
    "ic_models = []\n",
    "for model in model_list:\n",
    "    model_id = model[\"model_id\"]\n",
    "    if (\"-ic-\" in model_id) and model_id not in ic_models:\n",
    "        ic_models.append(model_id)\n",
    "\n",
    "print(f\"Number of ic models available for inference: {len(ic_models)}\")"
   ]
  },
  {
   "cell_type": "code",
   "execution_count": null,
   "id": "57b7cbc9",
   "metadata": {},
   "outputs": [],
   "source": [
    "\n",
    "infer_model_dropdown = Dropdown(\n",
    "    options=ic_models,\n",
    "    value=\"pytorch-ic-alexnet\",\n",
    "    description=\"Select a model:\",\n",
    "    style={\"description_width\": \"initial\"},\n",
    "    layout={\"width\": \"max-content\"},\n",
    ")"
   ]
  },
  {
   "cell_type": "code",
   "execution_count": 13,
   "id": "810205cc",
   "metadata": {},
   "outputs": [
    {
     "data": {
      "application/vnd.jupyter.widget-view+json": {
       "model_id": "c29b89016fd24460bfea6472acea7bfc",
       "version_major": 2,
       "version_minor": 0
      },
      "text/plain": [
       "Dropdown(description='Select a model:', layout=Layout(width='max-content'), options=('pytorch-ic-alexnet', 'py…"
      ]
     },
     "metadata": {},
     "output_type": "display_data"
    }
   ],
   "source": [
    "display(infer_model_dropdown)"
   ]
  },
  {
   "cell_type": "code",
   "execution_count": 14,
   "id": "81f313c7",
   "metadata": {},
   "outputs": [
    {
     "name": "stdout",
     "output_type": "stream",
     "text": [
      "pytorch-ic-mobilenet-v2\n"
     ]
    }
   ],
   "source": [
    "print(infer_model_dropdown.value)"
   ]
  },
  {
   "cell_type": "code",
   "execution_count": null,
   "id": "58de4111",
   "metadata": {},
   "outputs": [],
   "source": []
  }
 ],
 "metadata": {
  "kernelspec": {
   "display_name": "sagelearner",
   "language": "python",
   "name": "python3"
  },
  "language_info": {
   "codemirror_mode": {
    "name": "ipython",
    "version": 3
   },
   "file_extension": ".py",
   "mimetype": "text/x-python",
   "name": "python",
   "nbconvert_exporter": "python",
   "pygments_lexer": "ipython3",
   "version": "3.10.15"
  }
 },
 "nbformat": 4,
 "nbformat_minor": 5
}
