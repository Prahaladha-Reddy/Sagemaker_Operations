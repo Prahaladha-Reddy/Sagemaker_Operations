{
 "cells": [
  {
   "cell_type": "code",
   "execution_count": 1,
   "id": "b12940f0",
   "metadata": {},
   "outputs": [
    {
     "name": "stderr",
     "output_type": "stream",
     "text": [
      "\u001b[2mUsing Python 3.10.15 environment at C:\\Users\\bored\\Music\\SagemekerLearning\\sagelearner\u001b[0m\n",
      "\u001b[2mAudited \u001b[1m1 package\u001b[0m \u001b[2min 2.18s\u001b[0m\u001b[0m\n",
      "\u001b[2mUsing Python 3.10.15 environment at C:\\Users\\bored\\Music\\SagemekerLearning\\sagelearner\u001b[0m\n",
      "\u001b[2mAudited \u001b[1m1 package\u001b[0m \u001b[2min 12ms\u001b[0m\u001b[0m\n"
     ]
    }
   ],
   "source": [
    "!uv pip install sagemaker\n",
    "!uv pip install boto3"
   ]
  },
  {
   "cell_type": "code",
   "execution_count": 3,
   "id": "8f3350b4",
   "metadata": {},
   "outputs": [
    {
     "name": "stdout",
     "output_type": "stream",
     "text": [
      "sagemaker.config INFO - Not applying SDK defaults from location: C:\\ProgramData\\sagemaker\\sagemaker\\config.yaml\n",
      "sagemaker.config INFO - Not applying SDK defaults from location: C:\\Users\\bored\\AppData\\Local\\sagemaker\\sagemaker\\config.yaml\n",
      "\n",
      "2025-06-08 12:16:32 Starting - Preparing the instances for training\n",
      "2025-06-08 12:16:32 Downloading - Downloading the training image\n",
      "2025-06-08 12:16:32 Training - Training image download completed. Training in progress.\n",
      "2025-06-08 12:16:32 Uploading - Uploading generated training model\n",
      "2025-06-08 12:16:32 Completed - Training job completed\n"
     ]
    }
   ],
   "source": [
    "from sagemaker.estimator import Estimator\n",
    "job_name = 'iris-xgboost-2025-06-08-17-43-29'\n",
    "xgb_model = Estimator.attach(job_name)\n",
    "prefix=\"iris\"\n",
    "bucket = 'sgmkr-learner'"
   ]
  },
  {
   "cell_type": "code",
   "execution_count": 4,
   "id": "46ce467f",
   "metadata": {},
   "outputs": [],
   "source": [
    "\n",
    "import os\n",
    "import boto3\n",
    "import logging\n",
    "from datetime import datetime\n"
   ]
  },
  {
   "cell_type": "code",
   "execution_count": 5,
   "id": "55aeec2e",
   "metadata": {},
   "outputs": [],
   "source": [
    "import sagemaker\n",
    "from sagemaker.transformer import Transformer"
   ]
  },
  {
   "cell_type": "code",
   "execution_count": 6,
   "id": "e2d53c73",
   "metadata": {},
   "outputs": [],
   "source": [
    "sgmkr_clnt = boto3.client(\"sagemaker\")\n",
    "sgmkr_rt = boto3.client(\"runtime.sagemaker\")"
   ]
  },
  {
   "cell_type": "code",
   "execution_count": null,
   "id": "e7942227",
   "metadata": {},
   "outputs": [
    {
     "name": "stdout",
     "output_type": "stream",
     "text": [
      "arn:aws:iam::396913733336:role/SageMakerExecutionRole\n"
     ]
    }
   ],
   "source": [
    "import boto3\n",
    "\n",
    "iam_client = boto3.client('iam')\n",
    "\n",
    "\n",
    "role_name = \"SageMakerExecutionRole\"\n",
    "\n",
    "response = iam_client.get_role(RoleName=role_name)\n",
    "\n",
    "role_arn = response['Role']['Arn']\n",
    "\n",
    "print(role_arn)\n"
   ]
  },
  {
   "cell_type": "code",
   "execution_count": 12,
   "id": "3f377e69",
   "metadata": {},
   "outputs": [],
   "source": [
    "model_img=\"811284229777.dkr.ecr.us-east-1.amazonaws.com/xgboost:latest\""
   ]
  },
  {
   "cell_type": "code",
   "execution_count": 9,
   "id": "389a352e",
   "metadata": {},
   "outputs": [],
   "source": [
    "model_path = (\n",
    "    \"s3://sgmkr-learner/iris/model/iris-xgboost-2025-06-08-17-43-29/output/model.tar.gz\"\n",
    ")"
   ]
  },
  {
   "cell_type": "code",
   "execution_count": 10,
   "id": "1be29247",
   "metadata": {},
   "outputs": [
    {
     "name": "stdout",
     "output_type": "stream",
     "text": [
      "iris-xgboost-2025-06-09-19-26-51\n"
     ]
    }
   ],
   "source": [
    "model_name = \"iris-xgboost-\" + datetime.today().strftime(\"%Y-%m-%d-%H-%M-%S\")\n",
    "print(model_name)"
   ]
  },
  {
   "cell_type": "code",
   "execution_count": 13,
   "id": "e6034a74",
   "metadata": {},
   "outputs": [
    {
     "name": "stdout",
     "output_type": "stream",
     "text": [
      "{'ModelArn': 'arn:aws:sagemaker:us-east-1:396913733336:model/iris-xgboost-2025-06-09-19-26-51', 'ResponseMetadata': {'RequestId': 'd3f0dc86-1cd3-4508-90bd-895843bae815', 'HTTPStatusCode': 200, 'HTTPHeaders': {'x-amzn-requestid': 'd3f0dc86-1cd3-4508-90bd-895843bae815', 'content-type': 'application/x-amz-json-1.1', 'content-length': '94', 'date': 'Mon, 09 Jun 2025 13:57:39 GMT'}, 'RetryAttempts': 0}}\n"
     ]
    }
   ],
   "source": [
    "response = sgmkr_clnt.create_model(\n",
    "    ModelName=model_name,\n",
    "    PrimaryContainer={\"Image\": model_img, \"ModelDataUrl\": model_path},\n",
    "    ExecutionRoleArn=role_arn,\n",
    ")\n",
    "\n",
    "print(response)"
   ]
  },
  {
   "cell_type": "code",
   "execution_count": 14,
   "id": "84d003df",
   "metadata": {},
   "outputs": [],
   "source": [
    "batch_ip = 's3://{}/{}/{}'.format(bucket, prefix, 'batch_transform')\n",
    "batch_op = 's3://{}/{}/{}'.format(bucket, prefix, 'batch_transform')"
   ]
  },
  {
   "cell_type": "code",
   "execution_count": null,
   "id": "a6761955",
   "metadata": {},
   "outputs": [],
   "source": [
    "model_name = \"iris-xgboost-\" + datetime.today().strftime(\"%Y-%m-%d-%H-%M-%S\")\n"
   ]
  },
  {
   "cell_type": "code",
   "execution_count": 16,
   "id": "e44bdbb0",
   "metadata": {},
   "outputs": [
    {
     "name": "stdout",
     "output_type": "stream",
     "text": [
      "tmp-ep-config-2025-06-09-19-36-44-083130\n"
     ]
    }
   ],
   "source": [
    "ep_config_name = \"tmp-ep-config-\" + datetime.today().strftime(\"%Y-%m-%d-%H-%M-%S-%f\")\n",
    "print(ep_config_name)"
   ]
  },
  {
   "cell_type": "code",
   "execution_count": 17,
   "id": "31813686",
   "metadata": {},
   "outputs": [
    {
     "name": "stdout",
     "output_type": "stream",
     "text": [
      "{'EndpointConfigArn': 'arn:aws:sagemaker:us-east-1:396913733336:endpoint-config/tmp-ep-config-2025-06-09-19-36-44-083130', 'ResponseMetadata': {'RequestId': 'de594c5a-9cfc-44ce-abe5-84d38a2a6beb', 'HTTPStatusCode': 200, 'HTTPHeaders': {'x-amzn-requestid': 'de594c5a-9cfc-44ce-abe5-84d38a2a6beb', 'content-type': 'application/x-amz-json-1.1', 'content-length': '121', 'date': 'Mon, 09 Jun 2025 14:06:56 GMT'}, 'RetryAttempts': 0}}\n"
     ]
    }
   ],
   "source": [
    "response = sgmkr_clnt.create_endpoint_config(\n",
    "    EndpointConfigName=ep_config_name,\n",
    "    ProductionVariants=[\n",
    "        {\n",
    "            \"VariantName\": \"version-1\",\n",
    "            \"ModelName\": model_name,\n",
    "            \"InitialInstanceCount\": 1,\n",
    "            \"InstanceType\": \"ml.m4.xlarge\",\n",
    "            # sever_less = ''\n",
    "        },\n",
    "    ],\n",
    ")\n",
    "\n",
    "print(response)"
   ]
  },
  {
   "cell_type": "code",
   "execution_count": 18,
   "id": "19912399",
   "metadata": {},
   "outputs": [
    {
     "name": "stdout",
     "output_type": "stream",
     "text": [
      "tmp-ep-2025-06-09-19-37-00-114102\n"
     ]
    }
   ],
   "source": [
    "ep_name = \"tmp-ep-\" + datetime.today().strftime(\"%Y-%m-%d-%H-%M-%S-%f\")\n",
    "print(ep_name)"
   ]
  },
  {
   "cell_type": "code",
   "execution_count": 19,
   "id": "e7cdc670",
   "metadata": {},
   "outputs": [
    {
     "name": "stdout",
     "output_type": "stream",
     "text": [
      "{'EndpointArn': 'arn:aws:sagemaker:us-east-1:396913733336:endpoint/tmp-ep-2025-06-09-19-37-00-114102', 'ResponseMetadata': {'RequestId': 'd017908b-2dc5-4f5f-8233-69b1ec8ac584', 'HTTPStatusCode': 200, 'HTTPHeaders': {'x-amzn-requestid': 'd017908b-2dc5-4f5f-8233-69b1ec8ac584', 'content-type': 'application/x-amz-json-1.1', 'content-length': '101', 'date': 'Mon, 09 Jun 2025 14:07:20 GMT'}, 'RetryAttempts': 0}}\n"
     ]
    }
   ],
   "source": [
    "response = sgmkr_clnt.create_endpoint(\n",
    "    EndpointName=ep_name, EndpointConfigName=ep_config_name,\n",
    ")\n",
    "print(response)"
   ]
  },
  {
   "cell_type": "code",
   "execution_count": 20,
   "id": "7ff7b9a9",
   "metadata": {},
   "outputs": [
    {
     "name": "stdout",
     "output_type": "stream",
     "text": [
      "Endpoint created\n"
     ]
    }
   ],
   "source": [
    "waiter = sgmkr_clnt.get_waiter(\"endpoint_in_service\")\n",
    "waiter.wait(EndpointName=ep_name, WaiterConfig={\"Delay\": 123, \"MaxAttempts\": 123})\n",
    "print(\"Endpoint created\")"
   ]
  },
  {
   "cell_type": "code",
   "execution_count": 21,
   "id": "f1459608",
   "metadata": {},
   "outputs": [],
   "source": [
    "sgmkr_runt = boto3.client(\"runtime.sagemaker\")"
   ]
  },
  {
   "cell_type": "code",
   "execution_count": 22,
   "id": "b85e17ee",
   "metadata": {},
   "outputs": [],
   "source": [
    "payload = \"7.7, 3.0, 6.1, 2.3\""
   ]
  },
  {
   "cell_type": "code",
   "execution_count": 23,
   "id": "12f2b957",
   "metadata": {},
   "outputs": [
    {
     "name": "stdout",
     "output_type": "stream",
     "text": [
      "2.0\n"
     ]
    }
   ],
   "source": [
    "response = sgmkr_runt.invoke_endpoint(\n",
    "    EndpointName=ep_name, ContentType=\"text/csv\", Body=payload,\n",
    ")\n",
    "\n",
    "prediction = response[\"Body\"].read().decode()\n",
    "print(prediction)"
   ]
  },
  {
   "cell_type": "code",
   "execution_count": 24,
   "id": "9cde47b9",
   "metadata": {},
   "outputs": [
    {
     "name": "stdout",
     "output_type": "stream",
     "text": [
      "Deleting sagemaker endpoint\n",
      "Deleted sagemaker endpoint\n"
     ]
    }
   ],
   "source": [
    "print(\"Deleting sagemaker endpoint\")\n",
    "response = sgmkr_clnt.delete_endpoint(EndpointName = ep_name)  \n",
    "print(\"Deleted sagemaker endpoint\")\n",
    "#print(response)   "
   ]
  },
  {
   "cell_type": "code",
   "execution_count": 25,
   "id": "31bfaa7c",
   "metadata": {},
   "outputs": [
    {
     "name": "stdout",
     "output_type": "stream",
     "text": [
      "Deleting sagemaker endpoint configuration\n",
      "Deleted sagemaker endpoint configuration\n"
     ]
    }
   ],
   "source": [
    "print(\"Deleting sagemaker endpoint configuration\")\n",
    "response = sgmkr_clnt.delete_endpoint_config(EndpointConfigName = ep_config_name)\n",
    "print(\"Deleted sagemaker endpoint configuration\")"
   ]
  },
  {
   "cell_type": "code",
   "execution_count": null,
   "id": "6564a3fb",
   "metadata": {},
   "outputs": [],
   "source": []
  }
 ],
 "metadata": {
  "kernelspec": {
   "display_name": "sagelearner",
   "language": "python",
   "name": "python3"
  },
  "language_info": {
   "codemirror_mode": {
    "name": "ipython",
    "version": 3
   },
   "file_extension": ".py",
   "mimetype": "text/x-python",
   "name": "python",
   "nbconvert_exporter": "python",
   "pygments_lexer": "ipython3",
   "version": "3.10.15"
  }
 },
 "nbformat": 4,
 "nbformat_minor": 5
}
