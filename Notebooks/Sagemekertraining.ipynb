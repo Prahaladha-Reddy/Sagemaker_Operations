{
 "cells": [
  {
   "cell_type": "code",
   "execution_count": null,
   "id": "1fe5abb6",
   "metadata": {},
   "outputs": [],
   "source": [
    "!uv pip install sagemaker"
   ]
  },
  {
   "cell_type": "code",
   "execution_count": 4,
   "id": "0a457133",
   "metadata": {},
   "outputs": [
    {
     "name": "stdout",
     "output_type": "stream",
     "text": [
      "sagemaker.config INFO - Not applying SDK defaults from location: C:\\ProgramData\\sagemaker\\sagemaker\\config.yaml\n",
      "sagemaker.config INFO - Not applying SDK defaults from location: C:\\Users\\bored\\AppData\\Local\\sagemaker\\sagemaker\\config.yaml\n"
     ]
    }
   ],
   "source": [
    "import sagemaker\n",
    "import boto3"
   ]
  },
  {
   "cell_type": "code",
   "execution_count": 5,
   "id": "fc5d1e64",
   "metadata": {},
   "outputs": [],
   "source": [
    "from sagemaker.session import TrainingInput\n",
    "from sagemaker.estimator import Estimator\n",
    "from sagemaker import image_uris\n",
    "from sagemaker import hyperparameters"
   ]
  },
  {
   "cell_type": "code",
   "execution_count": 6,
   "id": "75d79d0b",
   "metadata": {},
   "outputs": [],
   "source": [
    "region = boto3.Session().region_name"
   ]
  },
  {
   "cell_type": "code",
   "execution_count": 7,
   "id": "105ec430",
   "metadata": {},
   "outputs": [
    {
     "data": {
      "text/plain": [
       "'us-east-1'"
      ]
     },
     "execution_count": 7,
     "metadata": {},
     "output_type": "execute_result"
    }
   ],
   "source": [
    "region"
   ]
  },
  {
   "cell_type": "code",
   "execution_count": 8,
   "id": "7dc7053f",
   "metadata": {},
   "outputs": [],
   "source": [
    "region = sagemaker.Session().boto_region_name"
   ]
  },
  {
   "cell_type": "code",
   "execution_count": 9,
   "id": "fe2f750a",
   "metadata": {},
   "outputs": [
    {
     "data": {
      "text/plain": [
       "'us-east-1'"
      ]
     },
     "execution_count": 9,
     "metadata": {},
     "output_type": "execute_result"
    }
   ],
   "source": [
    "region"
   ]
  },
  {
   "cell_type": "code",
   "execution_count": 10,
   "id": "3fdcecda",
   "metadata": {},
   "outputs": [],
   "source": [
    "import os"
   ]
  },
  {
   "cell_type": "code",
   "execution_count": null,
   "id": "636e79ae",
   "metadata": {},
   "outputs": [],
   "source": [
    "import boto3\n",
    "import json\n",
    "\n",
    "# Initialize clients\n",
    "iam_client = boto3.client('iam')\n",
    "\n",
    "# Role name\n",
    "role_name = \"SageMakerExecutionRole\"\n",
    "\n",
    "# Trust policy as JSON string\n",
    "trust_policy = json.dumps({\n",
    "    \"Version\": \"2012-10-17\",\n",
    "    \"Statement\": [\n",
    "        {\n",
    "            \"Effect\": \"Allow\",\n",
    "            \"Principal\": { \"Service\": \"sagemaker.amazonaws.com\" },\n",
    "            \"Action\": \"sts:AssumeRole\"\n",
    "        }\n",
    "    ]\n",
    "})\n",
    "\n",
    "# Create the role\n",
    "try:\n",
    "    response = iam_client.create_role(\n",
    "        RoleName=role_name,\n",
    "        AssumeRolePolicyDocument=trust_policy,\n",
    "        Description='SageMaker execution role created via boto3'\n",
    "    )\n",
    "    print(\"Role created successfully:\", response['Role']['Arn'])\n",
    "\n",
    "except iam_client.exceptions.EntityAlreadyExistsException:\n",
    "    print(f\"Role {role_name} already exists.\")\n",
    "\n",
    "# Attach managed policy AmazonSageMakerFullAccess\n",
    "iam_client.attach_role_policy(\n",
    "    RoleName=role_name,\n",
    "    PolicyArn='arn:aws:iam::aws:policy/AmazonSageMakerFullAccess'\n",
    ")\n",
    "\n",
    "iam_client.attach_role_policy(\n",
    "    RoleName=role_name,\n",
    "    PolicyArn='arn:aws:iam::aws:policy/AmazonS3FullAccess'\n",
    ")\n",
    "\n",
    "print(\"Policies attached successfully.\")\n"
   ]
  },
  {
   "cell_type": "code",
   "execution_count": 2,
   "id": "72f136a3",
   "metadata": {},
   "outputs": [],
   "source": [
    "role_arn=response['Role']['Arn']"
   ]
  },
  {
   "cell_type": "code",
   "execution_count": 11,
   "id": "5ed401be",
   "metadata": {},
   "outputs": [
    {
     "name": "stderr",
     "output_type": "stream",
     "text": [
      "Couldn't call 'get_role' to get Role ARN from role name AgenticPrahalad to get Role path.\n"
     ]
    },
    {
     "data": {
      "text/html": [
       "<pre style=\"white-space:pre;overflow-x:auto;line-height:normal;font-family:Menlo,'DejaVu Sans Mono',consolas,'Courier New',monospace\"><span style=\"color: #ff0000; text-decoration-color: #ff0000\">╭─────────────────────────────── </span><span style=\"color: #ff0000; text-decoration-color: #ff0000; font-weight: bold\">Traceback </span><span style=\"color: #ff7f7f; text-decoration-color: #ff7f7f; font-weight: bold\">(most recent call last)</span><span style=\"color: #ff0000; text-decoration-color: #ff0000\"> ────────────────────────────────╮</span>\n",
       "<span style=\"color: #ff0000; text-decoration-color: #ff0000\">│</span> in &lt;module&gt;:1                                                                                    <span style=\"color: #ff0000; text-decoration-color: #ff0000\">│</span>\n",
       "<span style=\"color: #ff0000; text-decoration-color: #ff0000\">│</span>                                                                                                  <span style=\"color: #ff0000; text-decoration-color: #ff0000\">│</span>\n",
       "<span style=\"color: #ff0000; text-decoration-color: #ff0000\">│</span> <span style=\"color: #800000; text-decoration-color: #800000\">❱ </span>1 role_arn=sagemaker.get_execution_role()                                                      <span style=\"color: #ff0000; text-decoration-color: #ff0000\">│</span>\n",
       "<span style=\"color: #ff0000; text-decoration-color: #ff0000\">│</span>   <span style=\"color: #7f7f7f; text-decoration-color: #7f7f7f\">2 </span>                                                                                             <span style=\"color: #ff0000; text-decoration-color: #ff0000\">│</span>\n",
       "<span style=\"color: #ff0000; text-decoration-color: #ff0000\">│</span>                                                                                                  <span style=\"color: #ff0000; text-decoration-color: #ff0000\">│</span>\n",
       "<span style=\"color: #ff0000; text-decoration-color: #ff0000\">│</span> c:\\Users\\bored\\Music\\SagemekerLearning\\sagelearner\\lib\\site-packages\\sagemaker\\session.py:8078   <span style=\"color: #ff0000; text-decoration-color: #ff0000\">│</span>\n",
       "<span style=\"color: #ff0000; text-decoration-color: #ff0000\">│</span> in get_execution_role                                                                            <span style=\"color: #ff0000; text-decoration-color: #ff0000\">│</span>\n",
       "<span style=\"color: #ff0000; text-decoration-color: #ff0000\">│</span>                                                                                                  <span style=\"color: #ff0000; text-decoration-color: #ff0000\">│</span>\n",
       "<span style=\"color: #ff0000; text-decoration-color: #ff0000\">│</span>   <span style=\"color: #7f7f7f; text-decoration-color: #7f7f7f\">8075 </span><span style=\"color: #7f7f7f; text-decoration-color: #7f7f7f\">│   │   </span><span style=\"color: #808000; text-decoration-color: #808000\">\"The current AWS identity is not a role: {}, therefore it cannot be used as a \"</span>   <span style=\"color: #ff0000; text-decoration-color: #ff0000\">│</span>\n",
       "<span style=\"color: #ff0000; text-decoration-color: #ff0000\">│</span>   <span style=\"color: #7f7f7f; text-decoration-color: #7f7f7f\">8076 </span><span style=\"color: #7f7f7f; text-decoration-color: #7f7f7f\">│   │   </span><span style=\"color: #808000; text-decoration-color: #808000\">\"SageMaker execution role\"</span>                                                        <span style=\"color: #ff0000; text-decoration-color: #ff0000\">│</span>\n",
       "<span style=\"color: #ff0000; text-decoration-color: #ff0000\">│</span>   <span style=\"color: #7f7f7f; text-decoration-color: #7f7f7f\">8077 </span><span style=\"color: #7f7f7f; text-decoration-color: #7f7f7f\">│   </span>)                                                                                     <span style=\"color: #ff0000; text-decoration-color: #ff0000\">│</span>\n",
       "<span style=\"color: #ff0000; text-decoration-color: #ff0000\">│</span> <span style=\"color: #800000; text-decoration-color: #800000\">❱ </span>8078 <span style=\"color: #7f7f7f; text-decoration-color: #7f7f7f\">│   </span><span style=\"color: #0000ff; text-decoration-color: #0000ff\">raise</span> <span style=\"color: #00ffff; text-decoration-color: #00ffff\">ValueError</span>(message.format(arn))                                                 <span style=\"color: #ff0000; text-decoration-color: #ff0000\">│</span>\n",
       "<span style=\"color: #ff0000; text-decoration-color: #ff0000\">│</span>   <span style=\"color: #7f7f7f; text-decoration-color: #7f7f7f\">8079 </span>                                                                                          <span style=\"color: #ff0000; text-decoration-color: #ff0000\">│</span>\n",
       "<span style=\"color: #ff0000; text-decoration-color: #ff0000\">│</span>   <span style=\"color: #7f7f7f; text-decoration-color: #7f7f7f\">8080 </span>                                                                                          <span style=\"color: #ff0000; text-decoration-color: #ff0000\">│</span>\n",
       "<span style=\"color: #ff0000; text-decoration-color: #ff0000\">│</span>   <span style=\"color: #7f7f7f; text-decoration-color: #7f7f7f\">8081 </span><span style=\"color: #0000ff; text-decoration-color: #0000ff\">def</span><span style=\"color: #808080; text-decoration-color: #808080\"> </span><span style=\"color: #00ff00; text-decoration-color: #00ff00\">generate_default_sagemaker_bucket_name</span>(boto_session):                                 <span style=\"color: #ff0000; text-decoration-color: #ff0000\">│</span>\n",
       "<span style=\"color: #ff0000; text-decoration-color: #ff0000\">╰──────────────────────────────────────────────────────────────────────────────────────────────────╯</span>\n",
       "<span style=\"color: #ff0000; text-decoration-color: #ff0000; font-weight: bold\">ValueError: </span>The current AWS identity is not a role: arn:aws:iam::<span style=\"color: #008080; text-decoration-color: #008080; font-weight: bold\">396913733336</span>:user/AgenticPrahalad, therefore it \n",
       "cannot be used as a SageMaker execution role\n",
       "</pre>\n"
      ],
      "text/plain": [
       "\u001b[38;2;255;0;0m╭─\u001b[0m\u001b[38;2;255;0;0m──────────────────────────────\u001b[0m\u001b[38;2;255;0;0m \u001b[0m\u001b[1;38;2;255;0;0mTraceback \u001b[0m\u001b[1;2;38;2;255;0;0m(most recent call last)\u001b[0m\u001b[38;2;255;0;0m \u001b[0m\u001b[38;2;255;0;0m───────────────────────────────\u001b[0m\u001b[38;2;255;0;0m─╮\u001b[0m\n",
       "\u001b[38;2;255;0;0m│\u001b[0m in <module>:1                                                                                    \u001b[38;2;255;0;0m│\u001b[0m\n",
       "\u001b[38;2;255;0;0m│\u001b[0m                                                                                                  \u001b[38;2;255;0;0m│\u001b[0m\n",
       "\u001b[38;2;255;0;0m│\u001b[0m \u001b[31m❱ \u001b[0m1 role_arn=sagemaker.get_execution_role()                                                      \u001b[38;2;255;0;0m│\u001b[0m\n",
       "\u001b[38;2;255;0;0m│\u001b[0m   \u001b[2m2 \u001b[0m                                                                                             \u001b[38;2;255;0;0m│\u001b[0m\n",
       "\u001b[38;2;255;0;0m│\u001b[0m                                                                                                  \u001b[38;2;255;0;0m│\u001b[0m\n",
       "\u001b[38;2;255;0;0m│\u001b[0m c:\\Users\\bored\\Music\\SagemekerLearning\\sagelearner\\lib\\site-packages\\sagemaker\\session.py:8078   \u001b[38;2;255;0;0m│\u001b[0m\n",
       "\u001b[38;2;255;0;0m│\u001b[0m in get_execution_role                                                                            \u001b[38;2;255;0;0m│\u001b[0m\n",
       "\u001b[38;2;255;0;0m│\u001b[0m                                                                                                  \u001b[38;2;255;0;0m│\u001b[0m\n",
       "\u001b[38;2;255;0;0m│\u001b[0m   \u001b[2m8075 \u001b[0m\u001b[2m│   │   \u001b[0m\u001b[33m\"\u001b[0m\u001b[33mThe current AWS identity is not a role: \u001b[0m\u001b[33m{}\u001b[0m\u001b[33m, therefore it cannot be used as a \u001b[0m\u001b[33m\"\u001b[0m   \u001b[38;2;255;0;0m│\u001b[0m\n",
       "\u001b[38;2;255;0;0m│\u001b[0m   \u001b[2m8076 \u001b[0m\u001b[2m│   │   \u001b[0m\u001b[33m\"\u001b[0m\u001b[33mSageMaker execution role\u001b[0m\u001b[33m\"\u001b[0m                                                        \u001b[38;2;255;0;0m│\u001b[0m\n",
       "\u001b[38;2;255;0;0m│\u001b[0m   \u001b[2m8077 \u001b[0m\u001b[2m│   \u001b[0m)                                                                                     \u001b[38;2;255;0;0m│\u001b[0m\n",
       "\u001b[38;2;255;0;0m│\u001b[0m \u001b[31m❱ \u001b[0m8078 \u001b[2m│   \u001b[0m\u001b[94mraise\u001b[0m \u001b[96mValueError\u001b[0m(message.format(arn))                                                 \u001b[38;2;255;0;0m│\u001b[0m\n",
       "\u001b[38;2;255;0;0m│\u001b[0m   \u001b[2m8079 \u001b[0m                                                                                          \u001b[38;2;255;0;0m│\u001b[0m\n",
       "\u001b[38;2;255;0;0m│\u001b[0m   \u001b[2m8080 \u001b[0m                                                                                          \u001b[38;2;255;0;0m│\u001b[0m\n",
       "\u001b[38;2;255;0;0m│\u001b[0m   \u001b[2m8081 \u001b[0m\u001b[94mdef\u001b[0m\u001b[90m \u001b[0m\u001b[92mgenerate_default_sagemaker_bucket_name\u001b[0m(boto_session):                                 \u001b[38;2;255;0;0m│\u001b[0m\n",
       "\u001b[38;2;255;0;0m╰──────────────────────────────────────────────────────────────────────────────────────────────────╯\u001b[0m\n",
       "\u001b[1;91mValueError: \u001b[0mThe current AWS identity is not a role: arn:aws:iam::\u001b[1;36m396913733336\u001b[0m:user/AgenticPrahalad, therefore it \n",
       "cannot be used as a SageMaker execution role\n"
      ]
     },
     "metadata": {},
     "output_type": "display_data"
    }
   ],
   "source": [
    "role_arn=sagemaker.get_execution_role()"
   ]
  },
  {
   "cell_type": "code",
   "execution_count": 12,
   "id": "c7702c14",
   "metadata": {},
   "outputs": [],
   "source": [
    "role = role_arn"
   ]
  },
  {
   "cell_type": "code",
   "execution_count": 13,
   "id": "a9462ed6",
   "metadata": {},
   "outputs": [],
   "source": [
    "s3=boto3.client(\"s3\")"
   ]
  },
  {
   "cell_type": "code",
   "execution_count": 14,
   "id": "06935797",
   "metadata": {},
   "outputs": [
    {
     "data": {
      "text/plain": [
       "{'ResponseMetadata': {'RequestId': 'NB8BQ8MH8NQS0GKH',\n",
       "  'HostId': 'XMwyXnANcDUtZTEyAoXo73hyrftcIfFbKtp/EGwrS1+yALEu5rFOzEBfeJV9Hkq6o9r9oiXASGw=',\n",
       "  'HTTPStatusCode': 200,\n",
       "  'HTTPHeaders': {'x-amz-id-2': 'XMwyXnANcDUtZTEyAoXo73hyrftcIfFbKtp/EGwrS1+yALEu5rFOzEBfeJV9Hkq6o9r9oiXASGw=',\n",
       "   'x-amz-request-id': 'NB8BQ8MH8NQS0GKH',\n",
       "   'date': 'Sun, 08 Jun 2025 11:34:59 GMT',\n",
       "   'content-type': 'application/xml',\n",
       "   'transfer-encoding': 'chunked',\n",
       "   'server': 'AmazonS3'},\n",
       "  'RetryAttempts': 0},\n",
       " 'Buckets': [{'Name': 'awsagenticbuck1',\n",
       "   'CreationDate': datetime.datetime(2025, 6, 1, 13, 0, 43, tzinfo=tzutc())},\n",
       "  {'Name': 'cdk-hnb659fds-assets-396913733336-us-east-1',\n",
       "   'CreationDate': datetime.datetime(2025, 6, 5, 5, 11, 41, tzinfo=tzutc())},\n",
       "  {'Name': 'sagemaker-studio-396913733336-3bshcwl60rf',\n",
       "   'CreationDate': datetime.datetime(2025, 6, 2, 3, 56, 11, tzinfo=tzutc())},\n",
       "  {'Name': 'sagemaker-studio-396913733336-f8do697lcln',\n",
       "   'CreationDate': datetime.datetime(2025, 6, 2, 3, 56, 14, tzinfo=tzutc())},\n",
       "  {'Name': 'sagemaker-us-east-1-396913733336',\n",
       "   'CreationDate': datetime.datetime(2025, 6, 2, 3, 56, 15, tzinfo=tzutc())},\n",
       "  {'Name': 'sgmkr-learner',\n",
       "   'CreationDate': datetime.datetime(2025, 6, 7, 9, 41, 10, tzinfo=tzutc())}],\n",
       " 'Owner': {'DisplayName': 'boreddyprahaladhareddy',\n",
       "  'ID': 'ab93d5351552cae394fbb87b443f96c87747da8fe4bd5dea236ea465aecaf001'}}"
      ]
     },
     "execution_count": 14,
     "metadata": {},
     "output_type": "execute_result"
    }
   ],
   "source": [
    "s3.list_buckets()"
   ]
  },
  {
   "cell_type": "code",
   "execution_count": 15,
   "id": "f6810923",
   "metadata": {},
   "outputs": [],
   "source": [
    "bucket=\"sgmkr-learner\""
   ]
  },
  {
   "cell_type": "code",
   "execution_count": 16,
   "id": "27b1e7d4",
   "metadata": {},
   "outputs": [],
   "source": [
    "prefix=\"iris\""
   ]
  },
  {
   "cell_type": "code",
   "execution_count": 17,
   "id": "30d462aa",
   "metadata": {},
   "outputs": [
    {
     "name": "stdout",
     "output_type": "stream",
     "text": [
      "                           PRE batch_transform/\n",
      "                           PRE data/\n"
     ]
    }
   ],
   "source": [
    "!aws s3 ls {bucket}/{prefix}/"
   ]
  },
  {
   "cell_type": "code",
   "execution_count": 18,
   "id": "4b8ca179",
   "metadata": {},
   "outputs": [
    {
     "name": "stdout",
     "output_type": "stream",
     "text": [
      "2025-06-07 15:11:26        950 iris/data/iris_test.csv\n",
      "2025-06-07 15:11:23       1900 iris/data/iris_train.csv\n"
     ]
    }
   ],
   "source": [
    "!aws s3 ls {bucket}/{prefix}/data/ --recursive"
   ]
  },
  {
   "cell_type": "code",
   "execution_count": 19,
   "id": "cb6e2d47",
   "metadata": {},
   "outputs": [
    {
     "name": "stdout",
     "output_type": "stream",
     "text": [
      "train file uri: s3://sgmkr-learner/iris/data/iris_train.csv\n",
      "valid file uri: s3://sgmkr-learner/iris/data/iris_test.csv\n"
     ]
    }
   ],
   "source": [
    "train_file = \"data/iris_train.csv\"\n",
    "valid_file = \"data/iris_test.csv\"\n",
    "\n",
    "train_file_uri = \"s3://{}/{}/{}\".format(bucket, prefix, train_file)\n",
    "valid_file_uri = \"s3://{}/{}/{}\".format(bucket, prefix, valid_file)\n",
    "print(\"train file uri:\", train_file_uri)\n",
    "print(\"valid file uri:\", valid_file_uri)"
   ]
  },
  {
   "cell_type": "code",
   "execution_count": 20,
   "id": "36c0c44e",
   "metadata": {},
   "outputs": [
    {
     "name": "stdout",
     "output_type": "stream",
     "text": [
      "<sagemaker.inputs.TrainingInput object at 0x00000132120E8640>\n"
     ]
    }
   ],
   "source": [
    "train_ip = TrainingInput(train_file_uri, content_type=\"csv\")\n",
    "print(train_ip)"
   ]
  },
  {
   "cell_type": "code",
   "execution_count": 21,
   "id": "83445cec",
   "metadata": {},
   "outputs": [
    {
     "name": "stdout",
     "output_type": "stream",
     "text": [
      "<sagemaker.inputs.TrainingInput object at 0x00000132120E8580>\n"
     ]
    }
   ],
   "source": [
    "valid_ip = TrainingInput(valid_file_uri, content_type=\"csv\")\n",
    "print(valid_ip)"
   ]
  },
  {
   "cell_type": "code",
   "execution_count": 22,
   "id": "ee894376",
   "metadata": {},
   "outputs": [
    {
     "name": "stdout",
     "output_type": "stream",
     "text": [
      "s3://sgmkr-learner/iris/model\n"
     ]
    }
   ],
   "source": [
    "model_op = \"s3://{}/{}/{}\".format(bucket, prefix, \"model\")\n",
    "print(model_op)"
   ]
  },
  {
   "cell_type": "code",
   "execution_count": 23,
   "id": "82d1d014",
   "metadata": {},
   "outputs": [
    {
     "name": "stdout",
     "output_type": "stream",
     "text": [
      "811284229777.dkr.ecr.us-east-1.amazonaws.com/xgboost:latest\n"
     ]
    }
   ],
   "source": [
    "model_img = sagemaker.image_uris.retrieve(\"xgboost\", region, \"latest\")\n",
    "print(model_img)"
   ]
  },
  {
   "cell_type": "code",
   "execution_count": 24,
   "id": "05f42032",
   "metadata": {},
   "outputs": [],
   "source": [
    "base_job_name = \"iris-xgboost-\""
   ]
  },
  {
   "cell_type": "code",
   "execution_count": 25,
   "id": "2f3cf983",
   "metadata": {},
   "outputs": [],
   "source": [
    "xgb_model = sagemaker.estimator.Estimator(\n",
    "    image_uri=model_img,\n",
    "    role=role_arn,\n",
    "    base_job_name=base_job_name,\n",
    "    instance_count=1,\n",
    "    instance_type=\"ml.m4.xlarge\",\n",
    "    output_path=model_op,\n",
    "    sagemaker_session=sagemaker.Session(),\n",
    "    volume_size=5,\n",
    ")"
   ]
  },
  {
   "cell_type": "code",
   "execution_count": 26,
   "id": "dd3e494d",
   "metadata": {},
   "outputs": [],
   "source": [
    "xgb_model.set_hyperparameters(\n",
    "    num_class=3, max_depth=5, num_round=10, objective=\"multi:softmax\",\n",
    ")"
   ]
  },
  {
   "cell_type": "code",
   "execution_count": 29,
   "id": "a70c7ea8",
   "metadata": {},
   "outputs": [],
   "source": [
    "from datetime import datetime"
   ]
  },
  {
   "cell_type": "code",
   "execution_count": 34,
   "id": "0f70a177",
   "metadata": {},
   "outputs": [
    {
     "name": "stdout",
     "output_type": "stream",
     "text": [
      "iris-xgboost-2025-06-08-17-43-29\n"
     ]
    }
   ],
   "source": [
    "job_name = base_job_name + datetime.today().strftime(\"%Y-%m-%d-%H-%M-%S\")\n",
    "print(job_name)"
   ]
  },
  {
   "cell_type": "code",
   "execution_count": null,
   "id": "a6643d4c",
   "metadata": {},
   "outputs": [
    {
     "name": "stderr",
     "output_type": "stream",
     "text": [
      "INFO:sagemaker.telemetry.telemetry_logging:SageMaker Python SDK will collect telemetry to help us better understand our user's needs, diagnose issues, and deliver additional features.\n",
      "To opt out of telemetry, please disable via TelemetryOptOut parameter in SDK defaults config. For more information, refer to https://sagemaker.readthedocs.io/en/stable/overview.html#configuring-and-using-defaults-with-the-sagemaker-python-sdk.\n",
      "INFO:sagemaker:Creating training-job with name: iris-xgboost-2025-06-08-17-43-29\n"
     ]
    },
    {
     "name": "stdout",
     "output_type": "stream",
     "text": [
      "2025-06-08 12:13:35 Starting - Starting the training job...\n",
      "2025-06-08 12:14:00 Starting - Preparing the instances for training...\n",
      "2025-06-08 12:14:32 Downloading - Downloading input data...\n",
      "2025-06-08 12:14:57 Downloading - Downloading the training image...\n",
      "2025-06-08 12:16:03 Training - Training image download completed. Training in progress...Arguments: train\n",
      "[2025-06-08:12:16:14:INFO] Running standalone xgboost training.\n",
      "[2025-06-08:12:16:14:INFO] File size need to be processed in the node: 0.0mb. Available memory size in the node: 8555.55mb\n",
      "[2025-06-08:12:16:14:INFO] Determined delimiter of CSV input is ','\n",
      "[12:16:14] S3DistributionType set as FullyReplicated\n",
      "[12:16:14] 100x4 matrix with 400 entries loaded from /opt/ml/input/data/train?format=csv&label_column=0&delimiter=,\n",
      "[2025-06-08:12:16:14:INFO] Determined delimiter of CSV input is ','\n",
      "[12:16:14] S3DistributionType set as FullyReplicated\n",
      "[12:16:14] 50x4 matrix with 200 entries loaded from /opt/ml/input/data/validation?format=csv&label_column=0&delimiter=,\n",
      "[12:16:14] src/tree/updater_prune.cc:74: tree pruning end, 1 roots, 2 extra nodes, 0 pruned nodes, max_depth=1\n",
      "[12:16:14] src/tree/updater_prune.cc:74: tree pruning end, 1 roots, 8 extra nodes, 0 pruned nodes, max_depth=3\n",
      "[12:16:14] src/tree/updater_prune.cc:74: tree pruning end, 1 roots, 4 extra nodes, 0 pruned nodes, max_depth=2\n",
      "[0]#011train-merror:0.03#011validation-merror:0.06\n",
      "[12:16:14] src/tree/updater_prune.cc:74: tree pruning end, 1 roots, 2 extra nodes, 0 pruned nodes, max_depth=1\n",
      "[12:16:14] src/tree/updater_prune.cc:74: tree pruning end, 1 roots, 8 extra nodes, 0 pruned nodes, max_depth=3\n",
      "[12:16:14] src/tree/updater_prune.cc:74: tree pruning end, 1 roots, 6 extra nodes, 0 pruned nodes, max_depth=2\n",
      "[1]#011train-merror:0.02#011validation-merror:0.02\n",
      "[12:16:14] src/tree/updater_prune.cc:74: tree pruning end, 1 roots, 2 extra nodes, 0 pruned nodes, max_depth=1\n",
      "[12:16:14] src/tree/updater_prune.cc:74: tree pruning end, 1 roots, 8 extra nodes, 0 pruned nodes, max_depth=3\n",
      "[12:16:14] src/tree/updater_prune.cc:74: tree pruning end, 1 roots, 6 extra nodes, 0 pruned nodes, max_depth=2\n",
      "[2]#011train-merror:0.02#011validation-merror:0.02\n",
      "[12:16:14] src/tree/updater_prune.cc:74: tree pruning end, 1 roots, 2 extra nodes, 0 pruned nodes, max_depth=1\n",
      "[12:16:14] src/tree/updater_prune.cc:74: tree pruning end, 1 roots, 8 extra nodes, 0 pruned nodes, max_depth=3\n",
      "[12:16:14] src/tree/updater_prune.cc:74: tree pruning end, 1 roots, 6 extra nodes, 0 pruned nodes, max_depth=2\n",
      "[3]#011train-merror:0.02#011validation-merror:0.02\n",
      "[12:16:14] src/tree/updater_prune.cc:74: tree pruning end, 1 roots, 2 extra nodes, 0 pruned nodes, max_depth=1\n",
      "[12:16:14] src/tree/updater_prune.cc:74: tree pruning end, 1 roots, 8 extra nodes, 0 pruned nodes, max_depth=3\n",
      "[12:16:14] src/tree/updater_prune.cc:74: tree pruning end, 1 roots, 6 extra nodes, 0 pruned nodes, max_depth=2\n",
      "[4]#011train-merror:0.02#011validation-merror:0.02\n",
      "[12:16:14] src/tree/updater_prune.cc:74: tree pruning end, 1 roots, 2 extra nodes, 0 pruned nodes, max_depth=1\n",
      "[12:16:14] src/tree/updater_prune.cc:74: tree pruning end, 1 roots, 6 extra nodes, 0 pruned nodes, max_depth=3\n",
      "[12:16:14] src/tree/updater_prune.cc:74: tree pruning end, 1 roots, 8 extra nodes, 0 pruned nodes, max_depth=3\n",
      "[5]#011train-merror:0.02#011validation-merror:0.04\n",
      "[12:16:14] src/tree/updater_prune.cc:74: tree pruning end, 1 roots, 2 extra nodes, 0 pruned nodes, max_depth=1\n",
      "[12:16:14] src/tree/updater_prune.cc:74: tree pruning end, 1 roots, 8 extra nodes, 0 pruned nodes, max_depth=3\n",
      "[12:16:14] src/tree/updater_prune.cc:74: tree pruning end, 1 roots, 8 extra nodes, 0 pruned nodes, max_depth=3\n",
      "[6]#011train-merror:0.02#011validation-merror:0.04\n",
      "[12:16:14] src/tree/updater_prune.cc:74: tree pruning end, 1 roots, 2 extra nodes, 0 pruned nodes, max_depth=1\n",
      "[12:16:14] src/tree/updater_prune.cc:74: tree pruning end, 1 roots, 8 extra nodes, 0 pruned nodes, max_depth=3\n",
      "[12:16:14] src/tree/updater_prune.cc:74: tree pruning end, 1 roots, 6 extra nodes, 0 pruned nodes, max_depth=2\n",
      "[7]#011train-merror:0.01#011validation-merror:0.06\n",
      "[12:16:14] src/tree/updater_prune.cc:74: tree pruning end, 1 roots, 2 extra nodes, 0 pruned nodes, max_depth=1\n",
      "[12:16:14] src/tree/updater_prune.cc:74: tree pruning end, 1 roots, 8 extra nodes, 0 pruned nodes, max_depth=3\n",
      "[12:16:14] src/tree/updater_prune.cc:74: tree pruning end, 1 roots, 6 extra nodes, 0 pruned nodes, max_depth=2\n",
      "[8]#011train-merror:0.01#011validation-merror:0.06\n",
      "[12:16:14] src/tree/updater_prune.cc:74: tree pruning end, 1 roots, 2 extra nodes, 0 pruned nodes, max_depth=1\n",
      "[12:16:14] src/tree/updater_prune.cc:74: tree pruning end, 1 roots, 10 extra nodes, 0 pruned nodes, max_depth=4\n",
      "[12:16:14] src/tree/updater_prune.cc:74: tree pruning end, 1 roots, 6 extra nodes, 0 pruned nodes, max_depth=2\n",
      "[9]#011train-merror:0.01#011validation-merror:0.06\n",
      "\n",
      "2025-06-08 12:16:32 Uploading - Uploading generated training model\n",
      "2025-06-08 12:16:32 Completed - Training job completed\n",
      "Training seconds: 120\n",
      "Billable seconds: 120\n"
     ]
    }
   ],
   "source": [
    "xgb_model.fit({\"train\": train_ip, \"validation\": valid_ip}, wait=True, job_name=job_name)"
   ]
  },
  {
   "cell_type": "code",
   "execution_count": null,
   "id": "fedc4d2d",
   "metadata": {},
   "outputs": [],
   "source": []
  },
  {
   "cell_type": "code",
   "execution_count": 36,
   "id": "2e0b493c",
   "metadata": {},
   "outputs": [
    {
     "name": "stdout",
     "output_type": "stream",
     "text": [
      "                           PRE iris-xgboost-2025-06-08-17-30-29/\n",
      "                           PRE iris-xgboost-2025-06-08-17-43-29/\n"
     ]
    }
   ],
   "source": [
    "!aws s3 ls {bucket}/{prefix}/model/"
   ]
  },
  {
   "cell_type": "code",
   "execution_count": 37,
   "id": "84ccf935",
   "metadata": {},
   "outputs": [
    {
     "name": "stdout",
     "output_type": "stream",
     "text": [
      "                           PRE debug-output/\n",
      "                           PRE output/\n",
      "                           PRE profiler-output/\n"
     ]
    }
   ],
   "source": [
    "!aws s3 ls {bucket}/{prefix}/model/{job_name}/"
   ]
  },
  {
   "cell_type": "code",
   "execution_count": 38,
   "id": "833c219b",
   "metadata": {},
   "outputs": [
    {
     "name": "stdout",
     "output_type": "stream",
     "text": [
      "download: s3://sgmkr-learner/iris/model/iris-xgboost-2025-06-08-17-43-29/profiler-output/system/training_job_end.ts to model\\profiler-output\\system\\training_job_end.ts\n",
      "Completed 0 Bytes/441.9 KiB (0 Bytes/s) with 6 file(s) remaining\n",
      "download: s3://sgmkr-learner/iris/model/iris-xgboost-2025-06-08-17-43-29/debug-output/training_job_end.ts to model\\debug-output\\training_job_end.ts\n",
      "Completed 0 Bytes/441.9 KiB (0 Bytes/s) with 5 file(s) remaining\n",
      "download: s3://sgmkr-learner/iris/model/iris-xgboost-2025-06-08-17-43-29/profiler-output/framework/training_job_end.ts to model\\profiler-output\\framework\\training_job_end.ts\n",
      "Completed 0 Bytes/441.9 KiB (0 Bytes/s) with 4 file(s) remaining\n",
      "Completed 3.4 KiB/441.9 KiB (1.5 KiB/s) with 4 file(s) remaining\n",
      "download: s3://sgmkr-learner/iris/model/iris-xgboost-2025-06-08-17-43-29/output/model.tar.gz to model\\output\\model.tar.gz\n",
      "Completed 3.4 KiB/441.9 KiB (1.5 KiB/s) with 3 file(s) remaining\n",
      "Completed 104.3 KiB/441.9 KiB (37.2 KiB/s) with 3 file(s) remaining\n",
      "download: s3://sgmkr-learner/iris/model/iris-xgboost-2025-06-08-17-43-29/profiler-output/system/incremental/2025060812/1749384840.algo-1.json to model\\profiler-output\\system\\incremental\\2025060812\\1749384840.algo-1.json\n",
      "Completed 104.3 KiB/441.9 KiB (37.2 KiB/s) with 2 file(s) remaining\n",
      "Completed 204.9 KiB/441.9 KiB (71.0 KiB/s) with 2 file(s) remaining\n",
      "download: s3://sgmkr-learner/iris/model/iris-xgboost-2025-06-08-17-43-29/profiler-output/system/incremental/2025060812/1749384960.algo-1.json to model\\profiler-output\\system\\incremental\\2025060812\\1749384960.algo-1.json\n",
      "Completed 204.9 KiB/441.9 KiB (71.0 KiB/s) with 1 file(s) remaining\n",
      "Completed 441.9 KiB/441.9 KiB (130.6 KiB/s) with 1 file(s) remaining\n",
      "download: s3://sgmkr-learner/iris/model/iris-xgboost-2025-06-08-17-43-29/profiler-output/system/incremental/2025060812/1749384900.algo-1.json to model\\profiler-output\\system\\incremental\\2025060812\\1749384900.algo-1.json\n"
     ]
    }
   ],
   "source": [
    "!aws s3 cp s3://{bucket}/{prefix}/model/{job_name}/ ./model/ --recursive\n"
   ]
  },
  {
   "cell_type": "code",
   "execution_count": 1,
   "id": "90d6f4ea",
   "metadata": {},
   "outputs": [
    {
     "ename": "NameError",
     "evalue": "name 'xgb_model' is not defined",
     "output_type": "error",
     "traceback": [
      "\u001b[1;31m---------------------------------------------------------------------------\u001b[0m",
      "\u001b[1;31mNameError\u001b[0m                                 Traceback (most recent call last)",
      "Cell \u001b[1;32mIn[1], line 1\u001b[0m\n\u001b[1;32m----> 1\u001b[0m \u001b[38;5;28mtype\u001b[39m(\u001b[43mxgb_model\u001b[49m)\n",
      "\u001b[1;31mNameError\u001b[0m: name 'xgb_model' is not defined"
     ]
    }
   ],
   "source": [
    "type(xgb_model)"
   ]
  },
  {
   "cell_type": "code",
   "execution_count": null,
   "id": "f300249c",
   "metadata": {},
   "outputs": [],
   "source": []
  }
 ],
 "metadata": {
  "kernelspec": {
   "display_name": "sagelearner",
   "language": "python",
   "name": "python3"
  },
  "language_info": {
   "codemirror_mode": {
    "name": "ipython",
    "version": 3
   },
   "file_extension": ".py",
   "mimetype": "text/x-python",
   "name": "python",
   "nbconvert_exporter": "python",
   "pygments_lexer": "ipython3",
   "version": "3.10.15"
  }
 },
 "nbformat": 4,
 "nbformat_minor": 5
}
