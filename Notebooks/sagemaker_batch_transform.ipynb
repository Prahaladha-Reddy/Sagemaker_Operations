{
 "cells": [
  {
   "cell_type": "code",
   "execution_count": 1,
   "id": "ba80b415",
   "metadata": {},
   "outputs": [
    {
     "name": "stderr",
     "output_type": "stream",
     "text": [
      "\u001b[2mUsing Python 3.10.15 environment at C:\\Users\\bored\\Music\\SagemekerLearning\\sagelearner\u001b[0m\n",
      "\u001b[2mAudited \u001b[1m1 package\u001b[0m \u001b[2min 969ms\u001b[0m\u001b[0m\n",
      "\u001b[2mUsing Python 3.10.15 environment at C:\\Users\\bored\\Music\\SagemekerLearning\\sagelearner\u001b[0m\n",
      "\u001b[2mAudited \u001b[1m1 package\u001b[0m \u001b[2min 9ms\u001b[0m\u001b[0m\n"
     ]
    }
   ],
   "source": [
    "!uv pip install sagemaker\n",
    "!uv pip install boto3"
   ]
  },
  {
   "cell_type": "code",
   "execution_count": 2,
   "id": "e79c2cf7",
   "metadata": {},
   "outputs": [],
   "source": [
    "job_name = 'iris-xgboost-2025-06-08-17-43-29'"
   ]
  },
  {
   "cell_type": "code",
   "execution_count": null,
   "id": "2044b377",
   "metadata": {},
   "outputs": [
    {
     "name": "stdout",
     "output_type": "stream",
     "text": [
      "sagemaker.config INFO - Not applying SDK defaults from location: C:\\ProgramData\\sagemaker\\sagemaker\\config.yaml\n",
      "sagemaker.config INFO - Not applying SDK defaults from location: C:\\Users\\bored\\AppData\\Local\\sagemaker\\sagemaker\\config.yaml\n",
      "\n",
      "2025-06-08 12:16:32 Starting - Preparing the instances for training\n",
      "2025-06-08 12:16:32 Downloading - Downloading the training image\n",
      "2025-06-08 12:16:32 Training - Training image download completed. Training in progress.\n",
      "2025-06-08 12:16:32 Uploading - Uploading generated training model\n",
      "2025-06-08 12:16:32 Completed - Training job completed\n"
     ]
    }
   ],
   "source": [
    "from sagemaker.estimator import Estimator\n",
    "job_name = 'iris-xgboost-2025-06-08-17-43-29'\n",
    "xgb_model = Estimator.attach(job_name)\n",
    "prefix=\"iris\"\n",
    "bucket = 'sgmkr-learner'"
   ]
  },
  {
   "cell_type": "code",
   "execution_count": 5,
   "id": "bde681b8",
   "metadata": {},
   "outputs": [],
   "source": [
    "batch_ip = \"s3://{}/{}/{}\".format(bucket, prefix, \"batch_transform\")\n",
    "batch_op = \"s3://{}/{}/{}\".format(bucket, prefix, \"batch_transform\")"
   ]
  },
  {
   "cell_type": "code",
   "execution_count": 6,
   "id": "b3cb49c2",
   "metadata": {},
   "outputs": [
    {
     "name": "stdout",
     "output_type": "stream",
     "text": [
      "2025-06-07 15:19:22        850 iris/batch_transform/iris_infer.csv\n"
     ]
    }
   ],
   "source": [
    "!aws s3 ls {batch_ip}/ --recursive"
   ]
  },
  {
   "cell_type": "code",
   "execution_count": 7,
   "id": "0aa994da",
   "metadata": {},
   "outputs": [],
   "source": [
    "transformer = xgb_model.transformer(\n",
    "    instance_count=1, instance_type=\"ml.m4.xlarge\", output_path=batch_op\n",
    ")"
   ]
  },
  {
   "cell_type": "code",
   "execution_count": 8,
   "id": "42c7e2c8",
   "metadata": {},
   "outputs": [],
   "source": [
    "from sagemaker.transformer import Transformer"
   ]
  },
  {
   "cell_type": "code",
   "execution_count": 9,
   "id": "81ac0f37",
   "metadata": {},
   "outputs": [
    {
     "name": "stderr",
     "output_type": "stream",
     "text": [
      "INFO:sagemaker:Creating transform job with name: iris-xgboost-2025-06-08-17-43-29-2025-06-09-13-08-53-220\n"
     ]
    },
    {
     "name": "stdout",
     "output_type": "stream",
     "text": [
      "................................Arguments: serve\n",
      "[2025-06-09 13:14:58 +0000] [1] [INFO] Starting gunicorn 19.9.0\n",
      "[2025-06-09 13:14:58 +0000] [1] [INFO] Listening at: http://0.0.0.0:8080 (1)\n",
      "[2025-06-09 13:14:58 +0000] [1] [INFO] Using worker: gevent\n",
      "[2025-06-09 13:14:58 +0000] [21] [INFO] Booting worker with pid: 21\n",
      "[2025-06-09 13:14:58 +0000] [22] [INFO] Booting worker with pid: 22\n",
      "[2025-06-09 13:14:59 +0000] [23] [INFO] Booting worker with pid: 23\n",
      "[2025-06-09 13:14:59 +0000] [24] [INFO] Booting worker with pid: 24\n",
      "/opt/amazon/lib/python3.7/site-packages/gunicorn/workers/ggevent.py:65: MonkeyPatchWarning: Monkey-patching ssl after ssl has already been imported may lead to errors, including RecursionError on Python 3.6. It may also silently lead to incorrect behaviour on Python 3.7. Please monkey-patch earlier. See https://github.com/gevent/gevent/issues/1016. Modules that had direct imports (NOT patched): ['urllib3.util.ssl_ (/opt/amazon/lib/python3.7/site-packages/urllib3/util/ssl_.py)', 'urllib3.util (/opt/amazon/lib/python3.7/site-packages/urllib3/util/__init__.py)']. \n",
      "  monkey.patch_all(subprocess=True)\n",
      "/opt/amazon/lib/python3.7/site-packages/gunicorn/workers/ggevent.py:65: MonkeyPatchWarning: Monkey-patching ssl after ssl has already been imported may lead to errors, including RecursionError on Python 3.6. It may also silently lead to incorrect behaviour on Python 3.7. Please monkey-patch earlier. See https://github.com/gevent/gevent/issues/1016. Modules that had direct imports (NOT patched): ['urllib3.util.ssl_ (/opt/amazon/lib/python3.7/site-packages/urllib3/util/ssl_.py)', 'urllib3.util (/opt/amazon/lib/python3.7/site-packages/urllib3/util/__init__.py)']. \n",
      "  monkey.patch_all(subprocess=True)\n",
      "[2025-06-09:13:14:59:INFO] Model loaded successfully for worker : 21\n",
      "[2025-06-09:13:14:59:INFO] Model loaded successfully for worker : 22\n",
      "/opt/amazon/lib/python3.7/site-packages/gunicorn/workers/ggevent.py:65: MonkeyPatchWarning: Monkey-patching ssl after ssl has already been imported may lead to errors, including RecursionError on Python 3.6. It may also silently lead to incorrect behaviour on Python 3.7. Please monkey-patch earlier. See https://github.com/gevent/gevent/issues/1016. Modules that had direct imports (NOT patched): ['urllib3.util.ssl_ (/opt/amazon/lib/python3.7/site-packages/urllib3/util/ssl_.py)', 'urllib3.util (/opt/amazon/lib/python3.7/site-packages/urllib3/util/__init__.py)']. \n",
      "  monkey.patch_all(subprocess=True)\n",
      "[2025-06-09:13:14:59:INFO] Model loaded successfully for worker : 23\n",
      "/opt/amazon/lib/python3.7/site-packages/gunicorn/workers/ggevent.py:65: MonkeyPatchWarning: Monkey-patching ssl after ssl has already been imported may lead to errors, including RecursionError on Python 3.6. It may also silently lead to incorrect behaviour on Python 3.7. Please monkey-patch earlier. See https://github.com/gevent/gevent/issues/1016. Modules that had direct imports (NOT patched): ['urllib3.util.ssl_ (/opt/amazon/lib/python3.7/site-packages/urllib3/util/ssl_.py)', 'urllib3.util (/opt/amazon/lib/python3.7/site-packages/urllib3/util/__init__.py)']. \n",
      "  monkey.patch_all(subprocess=True)\n",
      "[2025-06-09:13:14:59:INFO] Model loaded successfully for worker : 24\n",
      "[2025-06-09:13:15:03:INFO] Sniff delimiter as ','\n",
      "[2025-06-09:13:15:03:INFO] Determined delimiter of CSV input is ','\n",
      "\n",
      "2025-06-09T13:15:02.819:[sagemaker logs]: MaxConcurrentTransforms=4, MaxPayloadInMB=6, BatchStrategy=MULTI_RECORD\n",
      "Arguments: serve\n",
      "Arguments: serve\n",
      "[2025-06-09 13:14:58 +0000] [1] [INFO] Starting gunicorn 19.9.0\n",
      "[2025-06-09 13:14:58 +0000] [1] [INFO] Listening at: http://0.0.0.0:8080 (1)\n",
      "[2025-06-09 13:14:58 +0000] [1] [INFO] Using worker: gevent\n",
      "[2025-06-09 13:14:58 +0000] [21] [INFO] Booting worker with pid: 21\n",
      "[2025-06-09 13:14:58 +0000] [22] [INFO] Booting worker with pid: 22\n",
      "[2025-06-09 13:14:59 +0000] [23] [INFO] Booting worker with pid: 23\n",
      "[2025-06-09 13:14:59 +0000] [24] [INFO] Booting worker with pid: 24\n",
      "/opt/amazon/lib/python3.7/site-packages/gunicorn/workers/ggevent.py:65: MonkeyPatchWarning: Monkey-patching ssl after ssl has already been imported may lead to errors, including RecursionError on Python 3.6. It may also silently lead to incorrect behaviour on Python 3.7. Please monkey-patch earlier. See https://github.com/gevent/gevent/issues/1016. Modules that had direct imports (NOT patched): ['urllib3.util.ssl_ (/opt/amazon/lib/python3.7/site-packages/urllib3/util/ssl_.py)', 'urllib3.util (/opt/amazon/lib/python3.7/site-packages/urllib3/util/__init__.py)']. \n",
      "  monkey.patch_all(subprocess=True)\n",
      "/opt/amazon/lib/python3.7/site-packages/gunicorn/workers/ggevent.py:65: MonkeyPatchWarning: Monkey-patching ssl after ssl has already been imported may lead to errors, including RecursionError on Python 3.6. It may also silently lead to incorrect behaviour on Python 3.7. Please monkey-patch earlier. See https://github.com/gevent/gevent/issues/1016. Modules that had direct imports (NOT patched): ['urllib3.util.ssl_ (/opt/amazon/lib/python3.7/site-packages/urllib3/util/ssl_.py)', 'urllib3.util (/opt/amazon/lib/python3.7/site-packages/urllib3/util/__init__.py)']. \n",
      "  monkey.patch_all(subprocess=True)\n",
      "[2025-06-09:13:14:59:INFO] Model loaded successfully for worker : 21\n",
      "[2025-06-09:13:14:59:INFO] Model loaded successfully for worker : 22\n",
      "/opt/amazon/lib/python3.7/site-packages/gunicorn/workers/ggevent.py:65: MonkeyPatchWarning: Monkey-patching ssl after ssl has already been imported may lead to errors, including RecursionError on Python 3.6. It may also silently lead to incorrect behaviour on Python 3.7. Please monkey-patch earlier. See https://github.com/gevent/gevent/issues/1016. Modules that had direct imports (NOT patched): ['urllib3.util.ssl_ (/opt/amazon/lib/python3.7/site-packages/urllib3/util/ssl_.py)', 'urllib3.util (/opt/amazon/lib/python3.7/site-packages/urllib3/util/__init__.py)']. \n",
      "  monkey.patch_all(subprocess=True)\n",
      "[2025-06-09:13:14:59:INFO] Model loaded successfully for worker : 23\n",
      "/opt/amazon/lib/python3.7/site-packages/gunicorn/workers/ggevent.py:65: MonkeyPatchWarning: Monkey-patching ssl after ssl has already been imported may lead to errors, including RecursionError on Python 3.6. It may also silently lead to incorrect behaviour on Python 3.7. Please monkey-patch earlier. See https://github.com/gevent/gevent/issues/1016. Modules that had direct imports (NOT patched): ['urllib3.util.ssl_ (/opt/amazon/lib/python3.7/site-packages/urllib3/util/ssl_.py)', 'urllib3.util (/opt/amazon/lib/python3.7/site-packages/urllib3/util/__init__.py)']. \n",
      "  monkey.patch_all(subprocess=True)\n",
      "[2025-06-09:13:14:59:INFO] Model loaded successfully for worker : 24\n",
      "[2025-06-09 13:14:58 +0000] [1] [INFO] Starting gunicorn 19.9.0\n",
      "[2025-06-09 13:14:58 +0000] [1] [INFO] Listening at: http://0.0.0.0:8080 (1)\n",
      "[2025-06-09 13:14:58 +0000] [1] [INFO] Using worker: gevent\n",
      "[2025-06-09 13:14:58 +0000] [21] [INFO] Booting worker with pid: 21\n",
      "[2025-06-09 13:14:58 +0000] [22] [INFO] Booting worker with pid: 22\n",
      "[2025-06-09 13:14:59 +0000] [23] [INFO] Booting worker with pid: 23\n",
      "[2025-06-09 13:14:59 +0000] [24] [INFO] Booting worker with pid: 24\n",
      "/opt/amazon/lib/python3.7/site-packages/gunicorn/workers/ggevent.py:65: MonkeyPatchWarning: Monkey-patching ssl after ssl has already been imported may lead to errors, including RecursionError on Python 3.6. It may also silently lead to incorrect behaviour on Python 3.7. Please monkey-patch earlier. See https://github.com/gevent/gevent/issues/1016. Modules that had direct imports (NOT patched): ['urllib3.util.ssl_ (/opt/amazon/lib/python3.7/site-packages/urllib3/util/ssl_.py)', 'urllib3.util (/opt/amazon/lib/python3.7/site-packages/urllib3/util/__init__.py)']. \n",
      "  monkey.patch_all(subprocess=True)\n",
      "/opt/amazon/lib/python3.7/site-packages/gunicorn/workers/ggevent.py:65: MonkeyPatchWarning: Monkey-patching ssl after ssl has already been imported may lead to errors, including RecursionError on Python 3.6. It may also silently lead to incorrect behaviour on Python 3.7. Please monkey-patch earlier. See https://github.com/gevent/gevent/issues/1016. Modules that had direct imports (NOT patched): ['urllib3.util.ssl_ (/opt/amazon/lib/python3.7/site-packages/urllib3/util/ssl_.py)', 'urllib3.util (/opt/amazon/lib/python3.7/site-packages/urllib3/util/__init__.py)']. \n",
      "  monkey.patch_all(subprocess=True)\n",
      "[2025-06-09:13:14:59:INFO] Model loaded successfully for worker : 21\n",
      "[2025-06-09:13:14:59:INFO] Model loaded successfully for worker : 22\n",
      "/opt/amazon/lib/python3.7/site-packages/gunicorn/workers/ggevent.py:65: MonkeyPatchWarning: Monkey-patching ssl after ssl has already been imported may lead to errors, including RecursionError on Python 3.6. It may also silently lead to incorrect behaviour on Python 3.7. Please monkey-patch earlier. See https://github.com/gevent/gevent/issues/1016. Modules that had direct imports (NOT patched): ['urllib3.util.ssl_ (/opt/amazon/lib/python3.7/site-packages/urllib3/util/ssl_.py)', 'urllib3.util (/opt/amazon/lib/python3.7/site-packages/urllib3/util/__init__.py)']. \n",
      "  monkey.patch_all(subprocess=True)\n",
      "[2025-06-09:13:14:59:INFO] Model loaded successfully for worker : 23\n",
      "/opt/amazon/lib/python3.7/site-packages/gunicorn/workers/ggevent.py:65: MonkeyPatchWarning: Monkey-patching ssl after ssl has already been imported may lead to errors, including RecursionError on Python 3.6. It may also silently lead to incorrect behaviour on Python 3.7. Please monkey-patch earlier. See https://github.com/gevent/gevent/issues/1016. Modules that had direct imports (NOT patched): ['urllib3.util.ssl_ (/opt/amazon/lib/python3.7/site-packages/urllib3/util/ssl_.py)', 'urllib3.util (/opt/amazon/lib/python3.7/site-packages/urllib3/util/__init__.py)']. \n",
      "  monkey.patch_all(subprocess=True)\n",
      "[2025-06-09:13:14:59:INFO] Model loaded successfully for worker : 24\n",
      "[2025-06-09:13:15:03:INFO] Sniff delimiter as ','\n",
      "[2025-06-09:13:15:03:INFO] Determined delimiter of CSV input is ','\n",
      "[2025-06-09:13:15:03:INFO] Sniff delimiter as ','\n",
      "[2025-06-09:13:15:03:INFO] Determined delimiter of CSV input is ','\n",
      "2025-06-09T13:15:02.819:[sagemaker logs]: MaxConcurrentTransforms=4, MaxPayloadInMB=6, BatchStrategy=MULTI_RECORD\n"
     ]
    }
   ],
   "source": [
    "transformer.transform(\n",
    "    data=batch_ip, data_type=\"S3Prefix\", content_type=\"text/csv\", split_type=\"Line\"\n",
    ")\n",
    "transformer.wait()"
   ]
  },
  {
   "cell_type": "code",
   "execution_count": 10,
   "id": "ac111020",
   "metadata": {},
   "outputs": [
    {
     "name": "stdout",
     "output_type": "stream",
     "text": [
      "2025-06-07 15:19:22        850 iris/batch_transform/iris_infer.csv\n",
      "2025-06-09 18:45:04        200 iris/batch_transform/iris_infer.csv.out\n"
     ]
    }
   ],
   "source": [
    "!aws s3 ls {bucket}/{prefix}/batch_transform/ --recursive"
   ]
  },
  {
   "cell_type": "code",
   "execution_count": 11,
   "id": "a624d864",
   "metadata": {},
   "outputs": [
    {
     "name": "stdout",
     "output_type": "stream",
     "text": [
      "Completed 200 Bytes/200 Bytes (196 Bytes/s) with 1 file(s) remaining\n",
      "download: s3://sgmkr-learner/iris/batch_transform/iris_infer.csv.out to .\\iris_infer.csv.out\n"
     ]
    }
   ],
   "source": [
    "!aws s3 cp s3://{bucket}/{prefix}/batch_transform/iris_infer.csv.out ."
   ]
  },
  {
   "cell_type": "markdown",
   "id": "434dde65",
   "metadata": {},
   "source": [
    "---\n",
    "\n",
    "# 🚀 SageMaker Batch Transform Summary\n",
    "\n",
    "---\n",
    "\n",
    "### ✅ **Purpose:**\n",
    "\n",
    "> Do inference on large datasets directly from S3 without creating real-time endpoints.\n",
    "\n",
    "---\n",
    "\n",
    "### ✅ **Key Advantages:**\n",
    "\n",
    "* ✅ No always-running endpoint (cheaper for large data)\n",
    "* ✅ Fully serverless → you don’t manage infrastructure\n",
    "* ✅ Supports large batch jobs — process GBs/TBs of data easily\n",
    "* ✅ Automatically parallelized\n",
    "* ✅ Results stored directly into S3\n",
    "\n",
    "---\n",
    "\n",
    "### ✅ **Basic Flow:**\n",
    "\n",
    "```python\n",
    "# 1️⃣ Create transformer object\n",
    "transformer = model.transformer(\n",
    "    instance_count=1,\n",
    "    instance_type=\"ml.m4.xlarge\",\n",
    "    output_path=\"s3://your-bucket/output-path\"\n",
    ")\n",
    "\n",
    "# 2️⃣ Start batch transform job\n",
    "transformer.transform(\n",
    "    data=\"s3://your-bucket/input-path\",\n",
    "    data_type=\"S3Prefix\",\n",
    "    content_type=\"text/csv\",\n",
    "    split_type=\"Line\"\n",
    ")\n",
    "\n",
    "# 3️⃣ Wait for completion\n",
    "transformer.wait()\n",
    "```\n",
    "\n",
    "---\n",
    "\n",
    "### ✅ **Parameters Explained:**\n",
    "\n",
    "| Parameter                 | Meaning                                 |\n",
    "| ------------------------- | --------------------------------------- |\n",
    "| `instance_count`          | Number of compute instances             |\n",
    "| `instance_type`           | Type of instances (e.g. `ml.m4.xlarge`) |\n",
    "| `output_path`             | S3 location to store predictions        |\n",
    "| `data`                    | S3 input location                       |\n",
    "| `data_type=\"S3Prefix\"`    | Read all files from S3 prefix           |\n",
    "| `content_type=\"text/csv\"` | Format of your input data               |\n",
    "| `split_type=\"Line\"`       | Split input by line (default for CSV)   |\n",
    "\n",
    "---\n",
    "\n",
    "### ✅ **Cost Model:**\n",
    "\n",
    "* You only pay for the instance usage **during the job runtime**.\n",
    "* Once the job finishes, compute shuts down automatically.\n",
    "* Much cheaper than real-time endpoints for one-time or periodic inference.\n",
    "\n",
    "---\n",
    "\n",
    "### ✅ **When to use Batch Transform:**\n",
    "\n",
    "| ✅ Good for            | ❌ Not for                       |\n",
    "| --------------------- | ------------------------------- |\n",
    "| Large datasets        | Low-latency real-time inference |\n",
    "| Periodic scoring      | Interactive single predictions  |\n",
    "| Infrequent batch jobs | Chatbots, APIs                  |\n",
    "\n",
    "---\n",
    "\n",
    "### ✅ **Where output goes:**\n",
    "\n",
    "* Output is saved as CSV files into your specified `output_path` in S3.\n",
    "* Files will look like:\n",
    "\n",
    "```\n",
    "s3://your-bucket/output-path/iris-xgboost-<timestamp>/output/part000.gz\n",
    "```\n",
    "\n",
    "---\n",
    "\n",
    "### ✅ **Extra tip:**\n",
    "\n",
    "Batch Transform *still uses your trained model artifacts* (`model.tar.gz` saved in S3) — you don’t retrain anything.\n",
    "\n",
    "---\n",
    "\n",
    "# 🔥 Final mental model:\n",
    "\n",
    "```\n",
    "[S3 Input Data]\n",
    "       ↓\n",
    "[Batch Transform Job]\n",
    "       ↓\n",
    "[S3 Output Predictions]\n",
    "```\n",
    "\n",
    "---\n",
    "\n"
   ]
  },
  {
   "cell_type": "code",
   "execution_count": null,
   "id": "14c50fd1",
   "metadata": {},
   "outputs": [
    {
     "name": "stderr",
     "output_type": "stream",
     "text": [
      "'head' is not recognized as an internal or external command,\n",
      "operable program or batch file.\n"
     ]
    }
   ],
   "source": []
  },
  {
   "cell_type": "code",
   "execution_count": null,
   "id": "4cd800a3",
   "metadata": {},
   "outputs": [],
   "source": []
  }
 ],
 "metadata": {
  "kernelspec": {
   "display_name": "sagelearner",
   "language": "python",
   "name": "python3"
  },
  "language_info": {
   "codemirror_mode": {
    "name": "ipython",
    "version": 3
   },
   "file_extension": ".py",
   "mimetype": "text/x-python",
   "name": "python",
   "nbconvert_exporter": "python",
   "pygments_lexer": "ipython3",
   "version": "3.10.15"
  }
 },
 "nbformat": 4,
 "nbformat_minor": 5
}
