{
 "cells": [
  {
   "cell_type": "code",
   "execution_count": 1,
   "id": "1bd9aebc",
   "metadata": {},
   "outputs": [
    {
     "name": "stdout",
     "output_type": "stream",
     "text": [
      "test\n"
     ]
    }
   ],
   "source": [
    "print(\"test\")"
   ]
  },
  {
   "cell_type": "code",
   "execution_count": 3,
   "id": "fa1e8b2b",
   "metadata": {},
   "outputs": [
    {
     "name": "stdout",
     "output_type": "stream",
     "text": [
      "sagemaker.config INFO - Not applying SDK defaults from location: C:\\ProgramData\\sagemaker\\sagemaker\\config.yaml\n",
      "sagemaker.config INFO - Not applying SDK defaults from location: C:\\Users\\bored\\AppData\\Local\\sagemaker\\sagemaker\\config.yaml\n"
     ]
    }
   ],
   "source": [
    "import boto3 , sagemaker"
   ]
  },
  {
   "cell_type": "code",
   "execution_count": 4,
   "id": "7d9ea10f",
   "metadata": {},
   "outputs": [],
   "source": [
    "import numpy as np\n",
    "import pandas as pd"
   ]
  },
  {
   "cell_type": "code",
   "execution_count": 5,
   "id": "0ea3685d",
   "metadata": {},
   "outputs": [],
   "source": [
    "s3= boto3.client('s3')"
   ]
  },
  {
   "cell_type": "code",
   "execution_count": 20,
   "id": "2d585925",
   "metadata": {},
   "outputs": [],
   "source": [
    "bucket=\"prahaladreddy45\""
   ]
  },
  {
   "cell_type": "code",
   "execution_count": 21,
   "id": "d2665d53",
   "metadata": {},
   "outputs": [],
   "source": [
    "try:\n",
    "    s3.create_bucket(Bucket=bucket)\n",
    "except Exception as e:\n",
    "    print(\"Bucket already exists or another error occurred:\", e)"
   ]
  },
  {
   "cell_type": "code",
   "execution_count": 24,
   "id": "0a7ea43a",
   "metadata": {},
   "outputs": [],
   "source": [
    "infer_path=\"./data/iris_infer.csv\""
   ]
  },
  {
   "cell_type": "code",
   "execution_count": 25,
   "id": "2e2c1202",
   "metadata": {},
   "outputs": [],
   "source": [
    "df=pd.read_csv(infer_path)"
   ]
  },
  {
   "cell_type": "code",
   "execution_count": 27,
   "id": "e81ff1fa",
   "metadata": {},
   "outputs": [
    {
     "data": {
      "text/html": [
       "<div>\n",
       "<style scoped>\n",
       "    .dataframe tbody tr th:only-of-type {\n",
       "        vertical-align: middle;\n",
       "    }\n",
       "\n",
       "    .dataframe tbody tr th {\n",
       "        vertical-align: top;\n",
       "    }\n",
       "\n",
       "    .dataframe thead th {\n",
       "        text-align: right;\n",
       "    }\n",
       "</style>\n",
       "<table border=\"1\" class=\"dataframe\">\n",
       "  <thead>\n",
       "    <tr style=\"text-align: right;\">\n",
       "      <th></th>\n",
       "      <th>6.3</th>\n",
       "      <th>2.8</th>\n",
       "      <th>5.1</th>\n",
       "      <th>1.5</th>\n",
       "    </tr>\n",
       "  </thead>\n",
       "  <tbody>\n",
       "    <tr>\n",
       "      <th>0</th>\n",
       "      <td>6.3</td>\n",
       "      <td>3.3</td>\n",
       "      <td>4.7</td>\n",
       "      <td>1.6</td>\n",
       "    </tr>\n",
       "    <tr>\n",
       "      <th>1</th>\n",
       "      <td>5.0</td>\n",
       "      <td>3.4</td>\n",
       "      <td>1.5</td>\n",
       "      <td>0.2</td>\n",
       "    </tr>\n",
       "    <tr>\n",
       "      <th>2</th>\n",
       "      <td>5.8</td>\n",
       "      <td>2.7</td>\n",
       "      <td>4.1</td>\n",
       "      <td>1.0</td>\n",
       "    </tr>\n",
       "    <tr>\n",
       "      <th>3</th>\n",
       "      <td>7.3</td>\n",
       "      <td>2.9</td>\n",
       "      <td>6.3</td>\n",
       "      <td>1.8</td>\n",
       "    </tr>\n",
       "    <tr>\n",
       "      <th>4</th>\n",
       "      <td>4.9</td>\n",
       "      <td>2.4</td>\n",
       "      <td>3.3</td>\n",
       "      <td>1.0</td>\n",
       "    </tr>\n",
       "    <tr>\n",
       "      <th>5</th>\n",
       "      <td>5.7</td>\n",
       "      <td>2.8</td>\n",
       "      <td>4.5</td>\n",
       "      <td>1.3</td>\n",
       "    </tr>\n",
       "    <tr>\n",
       "      <th>6</th>\n",
       "      <td>5.7</td>\n",
       "      <td>3.8</td>\n",
       "      <td>1.7</td>\n",
       "      <td>0.3</td>\n",
       "    </tr>\n",
       "    <tr>\n",
       "      <th>7</th>\n",
       "      <td>5.6</td>\n",
       "      <td>3.0</td>\n",
       "      <td>4.5</td>\n",
       "      <td>1.5</td>\n",
       "    </tr>\n",
       "    <tr>\n",
       "      <th>8</th>\n",
       "      <td>5.5</td>\n",
       "      <td>2.3</td>\n",
       "      <td>4.0</td>\n",
       "      <td>1.3</td>\n",
       "    </tr>\n",
       "    <tr>\n",
       "      <th>9</th>\n",
       "      <td>4.4</td>\n",
       "      <td>3.2</td>\n",
       "      <td>1.3</td>\n",
       "      <td>0.2</td>\n",
       "    </tr>\n",
       "  </tbody>\n",
       "</table>\n",
       "</div>"
      ],
      "text/plain": [
       "   6.3  2.8  5.1  1.5\n",
       "0  6.3  3.3  4.7  1.6\n",
       "1  5.0  3.4  1.5  0.2\n",
       "2  5.8  2.7  4.1  1.0\n",
       "3  7.3  2.9  6.3  1.8\n",
       "4  4.9  2.4  3.3  1.0\n",
       "5  5.7  2.8  4.5  1.3\n",
       "6  5.7  3.8  1.7  0.3\n",
       "7  5.6  3.0  4.5  1.5\n",
       "8  5.5  2.3  4.0  1.3\n",
       "9  4.4  3.2  1.3  0.2"
      ]
     },
     "execution_count": 27,
     "metadata": {},
     "output_type": "execute_result"
    }
   ],
   "source": [
    "df.head(10)"
   ]
  },
  {
   "cell_type": "code",
   "execution_count": 28,
   "id": "ca70d55e",
   "metadata": {},
   "outputs": [],
   "source": [
    "from sagemaker import image_uris , TrainingInput"
   ]
  },
  {
   "cell_type": "code",
   "execution_count": 29,
   "id": "1365acda",
   "metadata": {},
   "outputs": [
    {
     "name": "stdout",
     "output_type": "stream",
     "text": [
      "Completed 850 Bytes/850 Bytes (387 Bytes/s) with 1 file(s) remaining\n",
      "upload: data\\iris_infer.csv to s3://prahaladreddy45/data/iris_infer.csv\n",
      "Completed 1.9 KiB/1.9 KiB (1.1 KiB/s) with 1 file(s) remaining\n",
      "upload: data\\iris_train.csv to s3://prahaladreddy45/data/iris_train.csv\n",
      "Completed 950 Bytes/950 Bytes (541 Bytes/s) with 1 file(s) remaining\n",
      "upload: data\\iris_test.csv to s3://prahaladreddy45/data/iris_test.csv\n"
     ]
    }
   ],
   "source": [
    "!aws s3 cp ./data/iris_infer.csv s3://prahaladreddy45/data/iris_infer.csv\n",
    "!aws s3 cp ./data/iris_train.csv s3://prahaladreddy45/data/iris_train.csv\n",
    "!aws s3 cp ./data/iris_test.csv s3://prahaladreddy45/data/iris_test.csv"
   ]
  },
  {
   "cell_type": "code",
   "execution_count": null,
   "id": "52044bb4",
   "metadata": {},
   "outputs": [],
   "source": []
  },
  {
   "cell_type": "code",
   "execution_count": null,
   "id": "0182c784",
   "metadata": {},
   "outputs": [],
   "source": []
  }
 ],
 "metadata": {
  "kernelspec": {
   "display_name": "sagelearner",
   "language": "python",
   "name": "python3"
  },
  "language_info": {
   "codemirror_mode": {
    "name": "ipython",
    "version": 3
   },
   "file_extension": ".py",
   "mimetype": "text/x-python",
   "name": "python",
   "nbconvert_exporter": "python",
   "pygments_lexer": "ipython3",
   "version": "3.10.15"
  }
 },
 "nbformat": 4,
 "nbformat_minor": 5
}
