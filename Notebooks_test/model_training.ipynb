{
 "cells": [
  {
   "cell_type": "code",
   "execution_count": 1,
   "id": "39d0cc8b",
   "metadata": {},
   "outputs": [
    {
     "name": "stdout",
     "output_type": "stream",
     "text": [
      "test\n"
     ]
    }
   ],
   "source": [
    "print('test')"
   ]
  },
  {
   "cell_type": "code",
   "execution_count": 2,
   "id": "9a6ff12b",
   "metadata": {},
   "outputs": [
    {
     "name": "stdout",
     "output_type": "stream",
     "text": [
      "sagemaker.config INFO - Not applying SDK defaults from location: C:\\ProgramData\\sagemaker\\sagemaker\\config.yaml\n",
      "sagemaker.config INFO - Not applying SDK defaults from location: C:\\Users\\bored\\AppData\\Local\\sagemaker\\sagemaker\\config.yaml\n"
     ]
    }
   ],
   "source": [
    "import sagemaker , boto3"
   ]
  },
  {
   "cell_type": "code",
   "execution_count": 3,
   "id": "e51ccd59",
   "metadata": {},
   "outputs": [],
   "source": [
    "bucket=\"prahaladreddy45\""
   ]
  },
  {
   "cell_type": "code",
   "execution_count": 4,
   "id": "7ac6a465",
   "metadata": {},
   "outputs": [],
   "source": [
    "s3=boto3.client('s3')"
   ]
  },
  {
   "cell_type": "code",
   "execution_count": 5,
   "id": "e7301f1c",
   "metadata": {},
   "outputs": [],
   "source": [
    "items=s3.list_objects_v2(\n",
    "    Bucket=bucket)"
   ]
  },
  {
   "cell_type": "code",
   "execution_count": 6,
   "id": "371051f7",
   "metadata": {},
   "outputs": [
    {
     "data": {
      "text/plain": [
       "{'ResponseMetadata': {'RequestId': '5VVQPESHY86J3ZV7',\n",
       "  'HostId': 'XyIWaO5V7An6s4XTsp0BW2KVmO0S5cJbf4Ii+Fm0L5SkdBdrj4SJ6ny/DwtPAlgyUn6JpPbARQU=',\n",
       "  'HTTPStatusCode': 200,\n",
       "  'HTTPHeaders': {'x-amz-id-2': 'XyIWaO5V7An6s4XTsp0BW2KVmO0S5cJbf4Ii+Fm0L5SkdBdrj4SJ6ny/DwtPAlgyUn6JpPbARQU=',\n",
       "   'x-amz-request-id': '5VVQPESHY86J3ZV7',\n",
       "   'date': 'Sat, 21 Jun 2025 06:35:10 GMT',\n",
       "   'x-amz-bucket-region': 'us-east-1',\n",
       "   'content-type': 'application/xml',\n",
       "   'transfer-encoding': 'chunked',\n",
       "   'server': 'AmazonS3'},\n",
       "  'RetryAttempts': 0},\n",
       " 'IsTruncated': False,\n",
       " 'Contents': [{'Key': 'data/iris_infer.csv',\n",
       "   'LastModified': datetime.datetime(2025, 6, 21, 6, 32, 18, tzinfo=tzutc()),\n",
       "   'ETag': '\"10b2df6ea2d26d9a74cc6893383af7fa\"',\n",
       "   'ChecksumAlgorithm': ['CRC64NVME'],\n",
       "   'ChecksumType': 'FULL_OBJECT',\n",
       "   'Size': 850,\n",
       "   'StorageClass': 'STANDARD'},\n",
       "  {'Key': 'data/iris_test.csv',\n",
       "   'LastModified': datetime.datetime(2025, 6, 21, 6, 32, 24, tzinfo=tzutc()),\n",
       "   'ETag': '\"a47b2450ef5c8d408bddea8e4f28f4e4\"',\n",
       "   'ChecksumAlgorithm': ['CRC64NVME'],\n",
       "   'ChecksumType': 'FULL_OBJECT',\n",
       "   'Size': 950,\n",
       "   'StorageClass': 'STANDARD'},\n",
       "  {'Key': 'data/iris_train.csv',\n",
       "   'LastModified': datetime.datetime(2025, 6, 21, 6, 32, 21, tzinfo=tzutc()),\n",
       "   'ETag': '\"0cd09ec525aae4887bc9ad820c549525\"',\n",
       "   'ChecksumAlgorithm': ['CRC64NVME'],\n",
       "   'ChecksumType': 'FULL_OBJECT',\n",
       "   'Size': 1900,\n",
       "   'StorageClass': 'STANDARD'}],\n",
       " 'Name': 'prahaladreddy45',\n",
       " 'Prefix': '',\n",
       " 'MaxKeys': 1000,\n",
       " 'EncodingType': 'url',\n",
       " 'KeyCount': 3}"
      ]
     },
     "execution_count": 6,
     "metadata": {},
     "output_type": "execute_result"
    }
   ],
   "source": [
    "items"
   ]
  },
  {
   "cell_type": "code",
   "execution_count": 7,
   "id": "dc6ab059",
   "metadata": {},
   "outputs": [
    {
     "name": "stdout",
     "output_type": "stream",
     "text": [
      "data/iris_infer.csv\n",
      "data/iris_test.csv\n",
      "data/iris_train.csv\n"
     ]
    }
   ],
   "source": [
    "items=items['Contents']\n",
    "for item in items:\n",
    "    print(item['Key'])"
   ]
  },
  {
   "cell_type": "code",
   "execution_count": 9,
   "id": "551899ba",
   "metadata": {},
   "outputs": [
    {
     "name": "stdout",
     "output_type": "stream",
     "text": [
      "Role SageMakerExecutionRole already exists.\n"
     ]
    }
   ],
   "source": [
    "iam=boto3.client('iam')\n",
    "role_name = 'SageMakerExecutionRole'\n",
    "try:\n",
    "    role = iam.get_role(RoleName=role_name)\n",
    "    print(f\"Role {role_name} already exists.\")\n",
    "except iam.exceptions.NoSuchEntityException:\n",
    "    role = iam.create_role(\n",
    "        RoleName=role_name,\n",
    "        AssumeRolePolicyDocument='''{\n",
    "            \"Version\": \"2012-10-17\",\n",
    "            \"Statement\": [\n",
    "                {\n",
    "                    \"Effect\": \"Allow\",\n",
    "                    \"Principal\": {\n",
    "                        \"Service\": \"sagemaker.amazonaws.com\"\n",
    "                    },\n",
    "                    \"Action\": \"sts:AssumeRole\"\n",
    "                }\n",
    "            ]\n",
    "        }'''\n",
    "    )\n",
    "    print(f\"Created role {role_name}.\")"
   ]
  },
  {
   "cell_type": "code",
   "execution_count": 10,
   "id": "07e4a816",
   "metadata": {},
   "outputs": [
    {
     "data": {
      "text/plain": [
       "{'ResponseMetadata': {'RequestId': '4b0d631e-8586-49d5-a82b-93e172cca4ea',\n",
       "  'HTTPStatusCode': 200,\n",
       "  'HTTPHeaders': {'date': 'Sat, 21 Jun 2025 06:37:30 GMT',\n",
       "   'x-amzn-requestid': '4b0d631e-8586-49d5-a82b-93e172cca4ea',\n",
       "   'content-type': 'text/xml',\n",
       "   'content-length': '212'},\n",
       "  'RetryAttempts': 0}}"
      ]
     },
     "execution_count": 10,
     "metadata": {},
     "output_type": "execute_result"
    }
   ],
   "source": [
    "iam.attach_role_policy(\n",
    "    RoleName=role_name,\n",
    "    PolicyArn='arn:aws:iam::aws:policy/AmazonSageMakerFullAccess'\n",
    ")\n",
    "iam.attach_role_policy(\n",
    "    RoleName=role_name,\n",
    "    PolicyArn='arn:aws:iam::aws:policy/AmazonS3FullAccess'\n",
    ")"
   ]
  },
  {
   "cell_type": "code",
   "execution_count": 12,
   "id": "9cbcd9e4",
   "metadata": {},
   "outputs": [],
   "source": [
    "role_arn=role['Role']['Arn']"
   ]
  },
  {
   "cell_type": "code",
   "execution_count": null,
   "id": "3cc895be",
   "metadata": {},
   "outputs": [],
   "source": [
    "!aws s3 "
   ]
  },
  {
   "cell_type": "code",
   "execution_count": 40,
   "id": "baa3fe74",
   "metadata": {},
   "outputs": [],
   "source": [
    "training_data_path = f's3://{bucket}/data/iris_train.csv'\n",
    "validation_data_path = f's3://{bucket}/data/iris_test.csv'\n",
    "inference_data_path = f's3://{bucket}/data/iris_inference.csv'"
   ]
  },
  {
   "cell_type": "code",
   "execution_count": 44,
   "id": "070b6718",
   "metadata": {},
   "outputs": [
    {
     "data": {
      "text/plain": [
       "'s3://prahaladreddy45/data/iris_train.csv'"
      ]
     },
     "execution_count": 44,
     "metadata": {},
     "output_type": "execute_result"
    }
   ],
   "source": [
    "training_data_path"
   ]
  },
  {
   "cell_type": "code",
   "execution_count": 49,
   "id": "7284dbe4",
   "metadata": {},
   "outputs": [],
   "source": [
    "model_path=f's3://{bucket}/model/iris_model'"
   ]
  },
  {
   "cell_type": "code",
   "execution_count": 50,
   "id": "a4bc7e2d",
   "metadata": {},
   "outputs": [
    {
     "data": {
      "text/plain": [
       "'s3://prahaladreddy45/model/iris_model'"
      ]
     },
     "execution_count": 50,
     "metadata": {},
     "output_type": "execute_result"
    }
   ],
   "source": [
    "model_path"
   ]
  },
  {
   "cell_type": "code",
   "execution_count": null,
   "id": "6cc5c2d4",
   "metadata": {},
   "outputs": [],
   "source": []
  },
  {
   "cell_type": "code",
   "execution_count": 16,
   "id": "09ed4d27",
   "metadata": {},
   "outputs": [],
   "source": [
    "from sagemaker import TrainingInput"
   ]
  },
  {
   "cell_type": "code",
   "execution_count": 42,
   "metadata": {},
   "outputs": [],
   "source": [
    "train_ip=TrainingInput(training_data_path,content_type='csv')\n",
    "validation_ip=TrainingInput(validation_data_path,content_type='csv')"
   ]
  },
  {
   "cell_type": "code",
   "execution_count": 25,
   "id": "b7401208",
   "metadata": {},
   "outputs": [],
   "source": [
    "region = sagemaker.Session().boto_region_name"
   ]
  },
  {
   "cell_type": "code",
   "execution_count": 26,
   "metadata": {},
   "outputs": [],
   "source": [
    "model_image=sagemaker.image_uris.retrieve('xgboost',region,\"latest\")"
   ]
  },
  {
   "cell_type": "code",
   "execution_count": 27,
   "id": "2a9bd944",
   "metadata": {},
   "outputs": [],
   "source": [
    "base_job_name = \"iris-xgboost-\""
   ]
  },
  {
   "cell_type": "code",
   "execution_count": 51,
   "id": "cb47cc30",
   "metadata": {},
   "outputs": [],
   "source": [
    "xgboost_estimator=sagemaker.estimator.Estimator(\n",
    "  image_uri=model_image,\n",
    "  role=role_arn,\n",
    "  instance_count=1,\n",
    "  instance_type='ml.m5.large',\n",
    "  base_job_name=base_job_name,\n",
    "  output_path=model_path,\n",
    "  sagemaker_session=sagemaker.Session(),\n",
    "  volume_size=5,\n",
    ")"
   ]
  },
  {
   "cell_type": "code",
   "execution_count": 52,
   "id": "8b122fe0",
   "metadata": {},
   "outputs": [],
   "source": [
    "xgboost_estimator.set_hyperparameters(\n",
    "    num_class=3, max_depth=5, num_round=10, objective=\"multi:softmax\",\n",
    ")"
   ]
  },
  {
   "cell_type": "code",
   "execution_count": 33,
   "id": "546fe404",
   "metadata": {},
   "outputs": [],
   "source": [
    "from datetime import datetime"
   ]
  },
  {
   "cell_type": "code",
   "execution_count": 53,
   "id": "763fdb1d",
   "metadata": {},
   "outputs": [],
   "source": [
    "new_job=base_job_name + datetime.now().strftime(\"%Y-%m-%d-%H-%M-%S\")"
   ]
  },
  {
   "cell_type": "code",
   "execution_count": 54,
   "id": "72b51f2e",
   "metadata": {},
   "outputs": [
    {
     "name": "stderr",
     "output_type": "stream",
     "text": [
      "INFO:sagemaker.telemetry.telemetry_logging:SageMaker Python SDK will collect telemetry to help us better understand our user's needs, diagnose issues, and deliver additional features.\n",
      "To opt out of telemetry, please disable via TelemetryOptOut parameter in SDK defaults config. For more information, refer to https://sagemaker.readthedocs.io/en/stable/overview.html#configuring-and-using-defaults-with-the-sagemaker-python-sdk.\n",
      "INFO:sagemaker:Creating training-job with name: iris-xgboost-2025-06-21-12-54-34\n"
     ]
    },
    {
     "name": "stdout",
     "output_type": "stream",
     "text": [
      "2025-06-21 07:24:40 Starting - Starting the training job...\n",
      "2025-06-21 07:25:17 Downloading - Downloading input data......\n",
      "2025-06-21 07:26:02 Downloading - Downloading the training image.Arguments: train\n",
      "[2025-06-21:07:26:41:INFO] Running standalone xgboost training.\n",
      "[2025-06-21:07:26:41:INFO] File size need to be processed in the node: 0.0mb. Available memory size in the node: 268.57mb\n",
      "[2025-06-21:07:26:41:INFO] Determined delimiter of CSV input is ','\n",
      "[07:26:41] S3DistributionType set as FullyReplicated\n",
      "[07:26:41] 100x4 matrix with 400 entries loaded from /opt/ml/input/data/train?format=csv&label_column=0&delimiter=,\n",
      "[2025-06-21:07:26:41:INFO] Determined delimiter of CSV input is ','\n",
      "[07:26:41] S3DistributionType set as FullyReplicated\n",
      "[07:26:41] 50x4 matrix with 200 entries loaded from /opt/ml/input/data/validation?format=csv&label_column=0&delimiter=,\n",
      "[07:26:41] src/tree/updater_prune.cc:74: tree pruning end, 1 roots, 2 extra nodes, 0 pruned nodes, max_depth=1\n",
      "[07:26:41] src/tree/updater_prune.cc:74: tree pruning end, 1 roots, 8 extra nodes, 0 pruned nodes, max_depth=3\n",
      "[07:26:41] src/tree/updater_prune.cc:74: tree pruning end, 1 roots, 4 extra nodes, 0 pruned nodes, max_depth=2\n",
      "[0]#011train-merror:0.03#011validation-merror:0.06\n",
      "[07:26:41] src/tree/updater_prune.cc:74: tree pruning end, 1 roots, 2 extra nodes, 0 pruned nodes, max_depth=1\n",
      "[07:26:41] src/tree/updater_prune.cc:74: tree pruning end, 1 roots, 8 extra nodes, 0 pruned nodes, max_depth=3\n",
      "[07:26:41] src/tree/updater_prune.cc:74: tree pruning end, 1 roots, 6 extra nodes, 0 pruned nodes, max_depth=2\n",
      "[1]#011train-merror:0.02#011validation-merror:0.02\n",
      "[07:26:41] src/tree/updater_prune.cc:74: tree pruning end, 1 roots, 2 extra nodes, 0 pruned nodes, max_depth=1\n",
      "[07:26:41] src/tree/updater_prune.cc:74: tree pruning end, 1 roots, 8 extra nodes, 0 pruned nodes, max_depth=3\n",
      "[07:26:41] src/tree/updater_prune.cc:74: tree pruning end, 1 roots, 6 extra nodes, 0 pruned nodes, max_depth=2\n",
      "[2]#011train-merror:0.02#011validation-merror:0.02\n",
      "[07:26:41] src/tree/updater_prune.cc:74: tree pruning end, 1 roots, 2 extra nodes, 0 pruned nodes, max_depth=1\n",
      "[07:26:41] src/tree/updater_prune.cc:74: tree pruning end, 1 roots, 8 extra nodes, 0 pruned nodes, max_depth=3\n",
      "[07:26:41] src/tree/updater_prune.cc:74: tree pruning end, 1 roots, 6 extra nodes, 0 pruned nodes, max_depth=2\n",
      "[3]#011train-merror:0.02#011validation-merror:0.02\n",
      "[07:26:41] src/tree/updater_prune.cc:74: tree pruning end, 1 roots, 2 extra nodes, 0 pruned nodes, max_depth=1\n",
      "[07:26:41] src/tree/updater_prune.cc:74: tree pruning end, 1 roots, 8 extra nodes, 0 pruned nodes, max_depth=3\n",
      "[07:26:41] src/tree/updater_prune.cc:74: tree pruning end, 1 roots, 6 extra nodes, 0 pruned nodes, max_depth=2\n",
      "[07:26:41] src/tree/updater_prune.cc:74: tree pruning end, 1 roots, 2 extra nodes, 0 pruned nodes, max_depth=1\n",
      "[07:26:41] src/tree/updater_prune.cc:74: tree pruning end, 1 roots, 6 extra nodes, 0 pruned nodes, max_depth=3\n",
      "[07:26:41] src/tree/updater_prune.cc:74: tree pruning end, 1 roots, 8 extra nodes, 0 pruned nodes, max_depth=3\n",
      "[07:26:41] src/tree/updater_prune.cc:74: tree pruning end, 1 roots, 2 extra nodes, 0 pruned nodes, max_depth=1\n",
      "[07:26:41] src/tree/updater_prune.cc:74: tree pruning end, 1 roots, 8 extra nodes, 0 pruned nodes, max_depth=3\n",
      "[07:26:41] src/tree/updater_prune.cc:74: tree pruning end, 1 roots, 8 extra nodes, 0 pruned nodes, max_depth=3\n",
      "[4]#011train-merror:0.02#011validation-merror:0.02\n",
      "[5]#011train-merror:0.02#011validation-merror:0.04\n",
      "[6]#011train-merror:0.02#011validation-merror:0.04\n",
      "[07:26:41] src/tree/updater_prune.cc:74: tree pruning end, 1 roots, 2 extra nodes, 0 pruned nodes, max_depth=1\n",
      "[07:26:41] src/tree/updater_prune.cc:74: tree pruning end, 1 roots, 8 extra nodes, 0 pruned nodes, max_depth=3\n",
      "[07:26:41] src/tree/updater_prune.cc:74: tree pruning end, 1 roots, 6 extra nodes, 0 pruned nodes, max_depth=2\n",
      "[7]#011train-merror:0.01#011validation-merror:0.06\n",
      "[07:26:41] src/tree/updater_prune.cc:74: tree pruning end, 1 roots, 2 extra nodes, 0 pruned nodes, max_depth=1\n",
      "[07:26:41] src/tree/updater_prune.cc:74: tree pruning end, 1 roots, 8 extra nodes, 0 pruned nodes, max_depth=3\n",
      "[07:26:41] src/tree/updater_prune.cc:74: tree pruning end, 1 roots, 6 extra nodes, 0 pruned nodes, max_depth=2\n",
      "[07:26:41] src/tree/updater_prune.cc:74: tree pruning end, 1 roots, 2 extra nodes, 0 pruned nodes, max_depth=1\n",
      "[07:26:41] src/tree/updater_prune.cc:74: tree pruning end, 1 roots, 10 extra nodes, 0 pruned nodes, max_depth=4\n",
      "[8]#011train-merror:0.01#011validation-merror:0.06\n",
      "[9]#011train-merror:0.01#011validation-merror:0.06\n",
      "[07:26:41] src/tree/updater_prune.cc:74: tree pruning end, 1 roots, 6 extra nodes, 0 pruned nodes, max_depth=2\n",
      "\n",
      "2025-06-21 07:27:01 Training - Training image download completed. Training in progress.\n",
      "2025-06-21 07:27:01 Uploading - Uploading generated training model\n",
      "2025-06-21 07:27:01 Completed - Training job completed\n",
      "Training seconds: 105\n",
      "Billable seconds: 105\n"
     ]
    }
   ],
   "source": [
    "xgboost_estimator.fit(\n",
    "  {'train':train_ip, 'validation':validation_ip},\n",
    "  job_name=new_job,\n",
    "  wait=True\n",
    ")"
   ]
  },
  {
   "cell_type": "code",
   "execution_count": null,
   "id": "7f64d068",
   "metadata": {},
   "outputs": [
    {
     "name": "stdout",
     "output_type": "stream",
     "text": [
      "Bucket 'prahaladreddy45' already exists.\n"
     ]
    }
   ],
   "source": [
    "import botocore\n",
    "\n",
    "try:\n",
    "  s3.head_bucket(Bucket=bucket)\n",
    "  print(f\"Bucket '{bucket}' already exists.\")\n",
    "except botocore.exceptions.ClientError:\n",
    "  s3.create_bucket(Bucket=bucket, CreateBucketConfiguration={'LocationConstraint': region})\n",
    "  print(f\"Bucket '{bucket}' created.\")"
   ]
  },
  {
   "cell_type": "code",
   "execution_count": 48,
   "id": "bcb21367",
   "metadata": {},
   "outputs": [
    {
     "name": "stdout",
     "output_type": "stream",
     "text": [
      "{'ResponseMetadata': {'RequestId': '3ARB65BQ2WX2S6BK', 'HostId': 'GFcgMtzJFsZw1LFpwwbOClPV4Ds1crUGFRn4UkwB+uD12qgtDhgD1s6yyvrCxJYMF0YhOcHPepM=', 'HTTPStatusCode': 200, 'HTTPHeaders': {'x-amz-id-2': 'GFcgMtzJFsZw1LFpwwbOClPV4Ds1crUGFRn4UkwB+uD12qgtDhgD1s6yyvrCxJYMF0YhOcHPepM=', 'x-amz-request-id': '3ARB65BQ2WX2S6BK', 'date': 'Sat, 21 Jun 2025 07:19:57 GMT', 'content-type': 'application/xml', 'transfer-encoding': 'chunked', 'server': 'AmazonS3'}, 'RetryAttempts': 0}, 'LocationConstraint': None}\n"
     ]
    }
   ],
   "source": [
    "import boto3\n",
    "s3 = boto3.client('s3')\n",
    "print(s3.get_bucket_location(Bucket=bucket))\n"
   ]
  },
  {
   "cell_type": "code",
   "execution_count": 55,
   "id": "3580816d",
   "metadata": {},
   "outputs": [
    {
     "data": {
      "text/plain": [
       "'iris-xgboost-2025-06-21-12-54-34'"
      ]
     },
     "execution_count": 55,
     "metadata": {},
     "output_type": "execute_result"
    }
   ],
   "source": [
    "new_job"
   ]
  },
  {
   "cell_type": "code",
   "execution_count": 58,
   "id": "d05d7c8e",
   "metadata": {},
   "outputs": [
    {
     "name": "stdout",
     "output_type": "stream",
     "text": [
      "\n",
      "2025-06-21 07:27:01 Starting - Preparing the instances for training\n",
      "2025-06-21 07:27:01 Downloading - Downloading the training image\n",
      "2025-06-21 07:27:01 Training - Training image download completed. Training in progress.\n",
      "2025-06-21 07:27:01 Uploading - Uploading generated training model\n",
      "2025-06-21 07:27:01 Completed - Training job completed\n"
     ]
    }
   ],
   "source": [
    "xgb_model=sagemaker.estimator.Estimator.attach(new_job)"
   ]
  },
  {
   "cell_type": "code",
   "execution_count": 62,
   "id": "77f61843",
   "metadata": {},
   "outputs": [
    {
     "name": "stderr",
     "output_type": "stream",
     "text": [
      "INFO:sagemaker:Creating model with name: iris-xgboost-2025-06-21-12-54-34-2025-06-21-08-11-39-535\n",
      "INFO:sagemaker:Creating endpoint-config with name iris-xgboost-2025-06-21-12-54-34-2025-06-21-08-11-39-535\n",
      "INFO:sagemaker:Creating endpoint with name iris-xgboost-2025-06-21-12-54-34-2025-06-21-08-11-39-535\n"
     ]
    },
    {
     "name": "stdout",
     "output_type": "stream",
     "text": [
      "------!"
     ]
    }
   ],
   "source": [
    "xgb_predictor = xgb_model.deploy(\n",
    "    initial_instance_count=1,\n",
    "    instance_type='ml.m5.large',\n",
    "    serializer=sagemaker.serializers.CSVSerializer(),\n",
    ")"
   ]
  },
  {
   "cell_type": "code",
   "execution_count": 64,
   "id": "b5c16a6b",
   "metadata": {},
   "outputs": [],
   "source": [
    "endpoint_nmae=xgb_predictor.endpoint_name"
   ]
  },
  {
   "cell_type": "code",
   "execution_count": 65,
   "id": "252a7277",
   "metadata": {},
   "outputs": [],
   "source": [
    "sage_runtime=boto3.client('sagemaker-runtime')"
   ]
  },
  {
   "cell_type": "code",
   "execution_count": 66,
   "id": "fa933c1e",
   "metadata": {},
   "outputs": [],
   "source": [
    "response=sage_runtime.invoke_endpoint(\n",
    "    EndpointName=endpoint_nmae,\n",
    "    Body='5.1,3.5,1.4,0.2',\n",
    "    ContentType='text/csv'\n",
    ")"
   ]
  },
  {
   "cell_type": "code",
   "execution_count": 67,
   "id": "b57c5f2c",
   "metadata": {},
   "outputs": [
    {
     "data": {
      "text/plain": [
       "{'ResponseMetadata': {'RequestId': '955156f6-e97e-4b4d-affd-6607d894e6bf',\n",
       "  'HTTPStatusCode': 200,\n",
       "  'HTTPHeaders': {'x-amzn-requestid': '955156f6-e97e-4b4d-affd-6607d894e6bf',\n",
       "   'x-amzn-invoked-production-variant': 'AllTraffic',\n",
       "   'date': 'Sat, 21 Jun 2025 08:17:38 GMT',\n",
       "   'content-type': 'text/csv; charset=utf-8',\n",
       "   'content-length': '3',\n",
       "   'connection': 'keep-alive'},\n",
       "  'RetryAttempts': 0},\n",
       " 'ContentType': 'text/csv; charset=utf-8',\n",
       " 'InvokedProductionVariant': 'AllTraffic',\n",
       " 'Body': <botocore.response.StreamingBody at 0x1f74e47f430>}"
      ]
     },
     "execution_count": 67,
     "metadata": {},
     "output_type": "execute_result"
    }
   ],
   "source": [
    "response"
   ]
  },
  {
   "cell_type": "code",
   "execution_count": 68,
   "id": "db2d1ef1",
   "metadata": {},
   "outputs": [
    {
     "data": {
      "text/plain": [
       "'0.0'"
      ]
     },
     "execution_count": 68,
     "metadata": {},
     "output_type": "execute_result"
    }
   ],
   "source": [
    "response['Body'].read().decode('utf-8')"
   ]
  },
  {
   "cell_type": "code",
   "execution_count": 70,
   "id": "82f1c484",
   "metadata": {},
   "outputs": [],
   "source": [
    "batch_op = \"s3://{}/{}\".format(bucket,\"batch_transform\")"
   ]
  },
  {
   "cell_type": "code",
   "execution_count": 71,
   "id": "de609091",
   "metadata": {},
   "outputs": [
    {
     "name": "stderr",
     "output_type": "stream",
     "text": [
      "INFO:sagemaker:Creating model with name: iris-xgboost-2025-06-21-12-54-34-2025-06-21-08-20-21-603\n"
     ]
    }
   ],
   "source": [
    "transformer = xgb_model.transformer(\n",
    "    instance_count=1, instance_type=\"ml.m4.xlarge\", output_path=batch_op\n",
    ")"
   ]
  },
  {
   "cell_type": "code",
   "execution_count": 72,
   "id": "7dd12d9f",
   "metadata": {},
   "outputs": [],
   "source": [
    "from sagemaker.transformer import Transformer"
   ]
  },
  {
   "cell_type": "code",
   "execution_count": 77,
   "id": "4b537a14",
   "metadata": {},
   "outputs": [],
   "source": [
    "batch_ip='s3://prahaladreddy45/data/iris_infer.csv'"
   ]
  },
  {
   "cell_type": "code",
   "execution_count": null,
   "id": "47bb0388",
   "metadata": {},
   "outputs": [],
   "source": []
  },
  {
   "cell_type": "code",
   "execution_count": 78,
   "id": "af2a5455",
   "metadata": {},
   "outputs": [
    {
     "name": "stderr",
     "output_type": "stream",
     "text": [
      "INFO:sagemaker:Creating transform job with name: iris-xgboost-2025-06-21-12-54-34-2025-06-21-08-23-00-432\n"
     ]
    },
    {
     "name": "stdout",
     "output_type": "stream",
     "text": [
      ".............................Arguments: serve\n",
      "[2025-06-21 08:29:12 +0000] [1] [INFO] Starting gunicorn 19.9.0\n",
      "[2025-06-21 08:29:12 +0000] [1] [INFO] Listening at: http://0.0.0.0:8080 (1)\n",
      "[2025-06-21 08:29:12 +0000] [1] [INFO] Using worker: gevent\n",
      "[2025-06-21 08:29:12 +0000] [21] [INFO] Booting worker with pid: 21\n",
      "[2025-06-21 08:29:12 +0000] [22] [INFO] Booting worker with pid: 22\n",
      "[2025-06-21 08:29:12 +0000] [23] [INFO] Booting worker with pid: 23\n",
      "[2025-06-21 08:29:12 +0000] [24] [INFO] Booting worker with pid: 24\n",
      "/opt/amazon/lib/python3.7/site-packages/gunicorn/workers/ggevent.py:65: MonkeyPatchWarning: Monkey-patching ssl after ssl has already been imported may lead to errors, including RecursionError on Python 3.6. It may also silently lead to incorrect behaviour on Python 3.7. Please monkey-patch earlier. See https://github.com/gevent/gevent/issues/1016. Modules that had direct imports (NOT patched): ['urllib3.util (/opt/amazon/lib/python3.7/site-packages/urllib3/util/__init__.py)', 'urllib3.util.ssl_ (/opt/amazon/lib/python3.7/site-packages/urllib3/util/ssl_.py)']. \n",
      "  monkey.patch_all(subprocess=True)\n",
      "[2025-06-21:08:29:12:INFO] Model loaded successfully for worker : 21\n",
      "/opt/amazon/lib/python3.7/site-packages/gunicorn/workers/ggevent.py:65: MonkeyPatchWarning: Monkey-patching ssl after ssl has already been imported may lead to errors, including RecursionError on Python 3.6. It may also silently lead to incorrect behaviour on Python 3.7. Please monkey-patch earlier. See https://github.com/gevent/gevent/issues/1016. Modules that had direct imports (NOT patched): ['urllib3.util (/opt/amazon/lib/python3.7/site-packages/urllib3/util/__init__.py)', 'urllib3.util.ssl_ (/opt/amazon/lib/python3.7/site-packages/urllib3/util/ssl_.py)']. \n",
      "  monkey.patch_all(subprocess=True)\n",
      "/opt/amazon/lib/python3.7/site-packages/gunicorn/workers/ggevent.py:65: MonkeyPatchWarning: Monkey-patching ssl after ssl has already been imported may lead to errors, including RecursionError on Python 3.6. It may also silently lead to incorrect behaviour on Python 3.7. Please monkey-patch earlier. See https://github.com/gevent/gevent/issues/1016. Modules that had direct imports (NOT patched): ['urllib3.util (/opt/amazon/lib/python3.7/site-packages/urllib3/util/__init__.py)', 'urllib3.util.ssl_ (/opt/amazon/lib/python3.7/site-packages/urllib3/util/ssl_.py)']. \n",
      "  monkey.patch_all(subprocess=True)\n",
      "[2025-06-21:08:29:12:INFO] Model loaded successfully for worker : 22\n",
      "[2025-06-21:08:29:12:INFO] Model loaded successfully for worker : 23\n",
      "/opt/amazon/lib/python3.7/site-packages/gunicorn/workers/ggevent.py:65: MonkeyPatchWarning: Monkey-patching ssl after ssl has already been imported may lead to errors, including RecursionError on Python 3.6. It may also silently lead to incorrect behaviour on Python 3.7. Please monkey-patch earlier. See https://github.com/gevent/gevent/issues/1016. Modules that had direct imports (NOT patched): ['urllib3.util (/opt/amazon/lib/python3.7/site-packages/urllib3/util/__init__.py)', 'urllib3.util.ssl_ (/opt/amazon/lib/python3.7/site-packages/urllib3/util/ssl_.py)']. \n",
      "  monkey.patch_all(subprocess=True)\n",
      "[2025-06-21:08:29:13:INFO] Model loaded successfully for worker : 24\n",
      "[2025-06-21:08:29:16:INFO] Sniff delimiter as ','\n",
      "[2025-06-21:08:29:16:INFO] Determined delimiter of CSV input is ','\n",
      "\n",
      "2025-06-21T08:29:16.368:[sagemaker logs]: MaxConcurrentTransforms=4, MaxPayloadInMB=6, BatchStrategy=MULTI_RECORD\n",
      "Arguments: serve\n",
      "Arguments: serve\n",
      "[2025-06-21 08:29:12 +0000] [1] [INFO] Starting gunicorn 19.9.0\n",
      "[2025-06-21 08:29:12 +0000] [1] [INFO] Listening at: http://0.0.0.0:8080 (1)\n",
      "[2025-06-21 08:29:12 +0000] [1] [INFO] Using worker: gevent\n",
      "[2025-06-21 08:29:12 +0000] [21] [INFO] Booting worker with pid: 21\n",
      "[2025-06-21 08:29:12 +0000] [22] [INFO] Booting worker with pid: 22\n",
      "[2025-06-21 08:29:12 +0000] [23] [INFO] Booting worker with pid: 23\n",
      "[2025-06-21 08:29:12 +0000] [24] [INFO] Booting worker with pid: 24\n",
      "/opt/amazon/lib/python3.7/site-packages/gunicorn/workers/ggevent.py:65: MonkeyPatchWarning: Monkey-patching ssl after ssl has already been imported may lead to errors, including RecursionError on Python 3.6. It may also silently lead to incorrect behaviour on Python 3.7. Please monkey-patch earlier. See https://github.com/gevent/gevent/issues/1016. Modules that had direct imports (NOT patched): ['urllib3.util (/opt/amazon/lib/python3.7/site-packages/urllib3/util/__init__.py)', 'urllib3.util.ssl_ (/opt/amazon/lib/python3.7/site-packages/urllib3/util/ssl_.py)']. \n",
      "  monkey.patch_all(subprocess=True)\n",
      "[2025-06-21:08:29:12:INFO] Model loaded successfully for worker : 21\n",
      "/opt/amazon/lib/python3.7/site-packages/gunicorn/workers/ggevent.py:65: MonkeyPatchWarning: Monkey-patching ssl after ssl has already been imported may lead to errors, including RecursionError on Python 3.6. It may also silently lead to incorrect behaviour on Python 3.7. Please monkey-patch earlier. See https://github.com/gevent/gevent/issues/1016. Modules that had direct imports (NOT patched): ['urllib3.util (/opt/amazon/lib/python3.7/site-packages/urllib3/util/__init__.py)', 'urllib3.util.ssl_ (/opt/amazon/lib/python3.7/site-packages/urllib3/util/ssl_.py)']. \n",
      "  monkey.patch_all(subprocess=True)\n",
      "/opt/amazon/lib/python3.7/site-packages/gunicorn/workers/ggevent.py:65: MonkeyPatchWarning: Monkey-patching ssl after ssl has already been imported may lead to errors, including RecursionError on Python 3.6. It may also silently lead to incorrect behaviour on Python 3.7. Please monkey-patch earlier. See https://github.com/gevent/gevent/issues/1016. Modules that had direct imports (NOT patched): ['urllib3.util (/opt/amazon/lib/python3.7/site-packages/urllib3/util/__init__.py)', 'urllib3.util.ssl_ (/opt/amazon/lib/python3.7/site-packages/urllib3/util/ssl_.py)']. \n",
      "  monkey.patch_all(subprocess=True)\n",
      "[2025-06-21:08:29:12:INFO] Model loaded successfully for worker : 22\n",
      "[2025-06-21:08:29:12:INFO] Model loaded successfully for worker : 23\n",
      "[2025-06-21 08:29:12 +0000] [1] [INFO] Starting gunicorn 19.9.0\n",
      "[2025-06-21 08:29:12 +0000] [1] [INFO] Listening at: http://0.0.0.0:8080 (1)\n",
      "[2025-06-21 08:29:12 +0000] [1] [INFO] Using worker: gevent\n",
      "[2025-06-21 08:29:12 +0000] [21] [INFO] Booting worker with pid: 21\n",
      "[2025-06-21 08:29:12 +0000] [22] [INFO] Booting worker with pid: 22\n",
      "[2025-06-21 08:29:12 +0000] [23] [INFO] Booting worker with pid: 23\n",
      "[2025-06-21 08:29:12 +0000] [24] [INFO] Booting worker with pid: 24\n",
      "/opt/amazon/lib/python3.7/site-packages/gunicorn/workers/ggevent.py:65: MonkeyPatchWarning: Monkey-patching ssl after ssl has already been imported may lead to errors, including RecursionError on Python 3.6. It may also silently lead to incorrect behaviour on Python 3.7. Please monkey-patch earlier. See https://github.com/gevent/gevent/issues/1016. Modules that had direct imports (NOT patched): ['urllib3.util (/opt/amazon/lib/python3.7/site-packages/urllib3/util/__init__.py)', 'urllib3.util.ssl_ (/opt/amazon/lib/python3.7/site-packages/urllib3/util/ssl_.py)']. \n",
      "  monkey.patch_all(subprocess=True)\n",
      "[2025-06-21:08:29:12:INFO] Model loaded successfully for worker : 21\n",
      "/opt/amazon/lib/python3.7/site-packages/gunicorn/workers/ggevent.py:65: MonkeyPatchWarning: Monkey-patching ssl after ssl has already been imported may lead to errors, including RecursionError on Python 3.6. It may also silently lead to incorrect behaviour on Python 3.7. Please monkey-patch earlier. See https://github.com/gevent/gevent/issues/1016. Modules that had direct imports (NOT patched): ['urllib3.util (/opt/amazon/lib/python3.7/site-packages/urllib3/util/__init__.py)', 'urllib3.util.ssl_ (/opt/amazon/lib/python3.7/site-packages/urllib3/util/ssl_.py)']. \n",
      "  monkey.patch_all(subprocess=True)\n",
      "/opt/amazon/lib/python3.7/site-packages/gunicorn/workers/ggevent.py:65: MonkeyPatchWarning: Monkey-patching ssl after ssl has already been imported may lead to errors, including RecursionError on Python 3.6. It may also silently lead to incorrect behaviour on Python 3.7. Please monkey-patch earlier. See https://github.com/gevent/gevent/issues/1016. Modules that had direct imports (NOT patched): ['urllib3.util (/opt/amazon/lib/python3.7/site-packages/urllib3/util/__init__.py)', 'urllib3.util.ssl_ (/opt/amazon/lib/python3.7/site-packages/urllib3/util/ssl_.py)']. \n",
      "  monkey.patch_all(subprocess=True)\n",
      "[2025-06-21:08:29:12:INFO] Model loaded successfully for worker : 22\n",
      "[2025-06-21:08:29:12:INFO] Model loaded successfully for worker : 23\n",
      "/opt/amazon/lib/python3.7/site-packages/gunicorn/workers/ggevent.py:65: MonkeyPatchWarning: Monkey-patching ssl after ssl has already been imported may lead to errors, including RecursionError on Python 3.6. It may also silently lead to incorrect behaviour on Python 3.7. Please monkey-patch earlier. See https://github.com/gevent/gevent/issues/1016. Modules that had direct imports (NOT patched): ['urllib3.util (/opt/amazon/lib/python3.7/site-packages/urllib3/util/__init__.py)', 'urllib3.util.ssl_ (/opt/amazon/lib/python3.7/site-packages/urllib3/util/ssl_.py)']. \n",
      "  monkey.patch_all(subprocess=True)\n",
      "[2025-06-21:08:29:13:INFO] Model loaded successfully for worker : 24\n",
      "/opt/amazon/lib/python3.7/site-packages/gunicorn/workers/ggevent.py:65: MonkeyPatchWarning: Monkey-patching ssl after ssl has already been imported may lead to errors, including RecursionError on Python 3.6. It may also silently lead to incorrect behaviour on Python 3.7. Please monkey-patch earlier. See https://github.com/gevent/gevent/issues/1016. Modules that had direct imports (NOT patched): ['urllib3.util (/opt/amazon/lib/python3.7/site-packages/urllib3/util/__init__.py)', 'urllib3.util.ssl_ (/opt/amazon/lib/python3.7/site-packages/urllib3/util/ssl_.py)']. \n",
      "  monkey.patch_all(subprocess=True)\n",
      "[2025-06-21:08:29:13:INFO] Model loaded successfully for worker : 24\n",
      "[2025-06-21:08:29:16:INFO] Sniff delimiter as ','\n",
      "[2025-06-21:08:29:16:INFO] Determined delimiter of CSV input is ','\n",
      "[2025-06-21:08:29:16:INFO] Sniff delimiter as ','\n",
      "[2025-06-21:08:29:16:INFO] Determined delimiter of CSV input is ','\n",
      "2025-06-21T08:29:16.368:[sagemaker logs]: MaxConcurrentTransforms=4, MaxPayloadInMB=6, BatchStrategy=MULTI_RECORD\n"
     ]
    }
   ],
   "source": [
    "transformer.transform(\n",
    "    data=batch_ip, data_type=\"S3Prefix\", content_type=\"text/csv\", split_type=\"Line\"\n",
    ")\n",
    "transformer.wait()"
   ]
  },
  {
   "cell_type": "code",
   "execution_count": 79,
   "id": "7ea92945",
   "metadata": {},
   "outputs": [
    {
     "name": "stdout",
     "output_type": "stream",
     "text": [
      "2025-06-21 13:59:17        200 batch_transform/iris_infer.csv.out\n"
     ]
    }
   ],
   "source": [
    "!aws s3 ls {bucket}/batch_transform/ --recursive"
   ]
  },
  {
   "cell_type": "code",
   "execution_count": 80,
   "id": "dfa1354a",
   "metadata": {},
   "outputs": [],
   "source": [
    "smkr_client=boto3.client('sagemaker')"
   ]
  },
  {
   "cell_type": "code",
   "execution_count": 81,
   "id": "851229a1",
   "metadata": {},
   "outputs": [
    {
     "data": {
      "text/plain": [
       "{'ResponseMetadata': {'RequestId': '0854990d-3a80-4424-a6d2-9caea483d16e',\n",
       "  'HTTPStatusCode': 200,\n",
       "  'HTTPHeaders': {'x-amzn-requestid': '0854990d-3a80-4424-a6d2-9caea483d16e',\n",
       "   'content-type': 'application/x-amz-json-1.1',\n",
       "   'date': 'Sat, 21 Jun 2025 08:34:12 GMT',\n",
       "   'content-length': '0'},\n",
       "  'RetryAttempts': 0}}"
      ]
     },
     "execution_count": 81,
     "metadata": {},
     "output_type": "execute_result"
    }
   ],
   "source": [
    "smkr_client.delete_endpoint(EndpointName=endpoint_nmae)"
   ]
  },
  {
   "cell_type": "code",
   "execution_count": null,
   "id": "b3a4298a",
   "metadata": {},
   "outputs": [],
   "source": []
  }
 ],
 "metadata": {
  "kernelspec": {
   "display_name": "sagelearner",
   "language": "python",
   "name": "python3"
  },
  "language_info": {
   "codemirror_mode": {
    "name": "ipython",
    "version": 3
   },
   "file_extension": ".py",
   "mimetype": "text/x-python",
   "name": "python",
   "nbconvert_exporter": "python",
   "pygments_lexer": "ipython3",
   "version": "3.10.15"
  }
 },
 "nbformat": 4,
 "nbformat_minor": 5
}
